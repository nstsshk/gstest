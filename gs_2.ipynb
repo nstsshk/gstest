{
  "nbformat": 4,
  "nbformat_minor": 0,
  "metadata": {
    "colab": {
      "provenance": [],
      "toc_visible": true,
      "authorship_tag": "ABX9TyM7J0tmxjC2yJSh3AvWq3eF",
      "include_colab_link": true
    },
    "kernelspec": {
      "name": "python3",
      "display_name": "Python 3"
    },
    "language_info": {
      "name": "python"
    }
  },
  "cells": [
    {
      "cell_type": "markdown",
      "metadata": {
        "id": "view-in-github",
        "colab_type": "text"
      },
      "source": [
        "<a href=\"https://colab.research.google.com/github/nstsshk/gstest/blob/main/gs_2.ipynb\" target=\"_parent\"><img src=\"https://colab.research.google.com/assets/colab-badge.svg\" alt=\"Open In Colab\"/></a>"
      ]
    },
    {
      "cell_type": "code",
      "execution_count": null,
      "metadata": {
        "id": "jHreo5aGH4bB"
      },
      "outputs": [],
      "source": []
    },
    {
      "cell_type": "markdown",
      "source": [
        "#Introduction"
      ],
      "metadata": {
        "id": "9Ipq72BSJisb"
      }
    },
    {
      "cell_type": "markdown",
      "source": [
        "# Code section"
      ],
      "metadata": {
        "id": "LCGnuawIK8Pw"
      }
    },
    {
      "cell_type": "code",
      "source": [
        "a = 1\n",
        "b = 2\n",
        "a + b "
      ],
      "metadata": {
        "colab": {
          "base_uri": "https://localhost:8080/"
        },
        "id": "RWUOhdLPLHZ2",
        "outputId": "12dedf55-0ebd-43df-ba94-56884eb69f8e"
      },
      "execution_count": 3,
      "outputs": [
        {
          "output_type": "execute_result",
          "data": {
            "text/plain": [
              "3"
            ]
          },
          "metadata": {},
          "execution_count": 3
        }
      ]
    },
    {
      "cell_type": "markdown",
      "source": [
        "# New Section"
      ],
      "metadata": {
        "id": "EloAvuVlK9BY"
      }
    },
    {
      "cell_type": "markdown",
      "source": [
        "**print (\"hello word\")**"
      ],
      "metadata": {
        "id": "s7PyvJHRMIIF"
      }
    },
    {
      "cell_type": "markdown",
      "source": [
        "*print (\"hello word\")*"
      ],
      "metadata": {
        "id": "zWFqnVVwL5M9"
      }
    },
    {
      "cell_type": "markdown",
      "source": [
        "```print (\"hello word\")```\n"
      ],
      "metadata": {
        "id": "vR_XNYhoL458"
      }
    }
  ]
}