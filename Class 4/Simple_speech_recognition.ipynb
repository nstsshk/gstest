{
  "cells": [
    {
      "cell_type": "markdown",
      "metadata": {
        "id": "view-in-github",
        "colab_type": "text"
      },
      "source": [
        "<a href=\"https://colab.research.google.com/github/nstsshk/gstest/blob/main/Class%204/Simple_speech_recognition.ipynb\" target=\"_parent\"><img src=\"https://colab.research.google.com/assets/colab-badge.svg\" alt=\"Open In Colab\"/></a>"
      ]
    },
    {
      "cell_type": "markdown",
      "source": [
        "Code source: https://colab.research.google.com/github/tensorflow/docs/blob/master/site/en/tutorials/audio/simple_audio.ipynb#scrollTo=wTAg4vsn3oEb"
      ],
      "metadata": {
        "id": "B81jKekEobND"
      }
    },
    {
      "cell_type": "markdown",
      "metadata": {
        "id": "fluF3_oOgkWF"
      },
      "source": [
        "##### Copyright 2020 The TensorFlow Authors."
      ]
    },
    {
      "cell_type": "code",
      "execution_count": 1,
      "metadata": {
        "cellView": "form",
        "id": "AJs7HHFmg1M9"
      },
      "outputs": [],
      "source": [
        "#@title Licensed under the Apache License, Version 2.0 (the \"License\");\n",
        "# you may not use this file except in compliance with the License.\n",
        "# You may obtain a copy of the License at\n",
        "#\n",
        "# https://www.apache.org/licenses/LICENSE-2.0\n",
        "#\n",
        "# Unless required by applicable law or agreed to in writing, software\n",
        "# distributed under the License is distributed on an \"AS IS\" BASIS,\n",
        "# WITHOUT WARRANTIES OR CONDITIONS OF ANY KIND, either express or implied.\n",
        "# See the License for the specific language governing permissions and\n",
        "# limitations under the License."
      ]
    },
    {
      "cell_type": "markdown",
      "metadata": {
        "id": "jYysdyb-CaWM"
      },
      "source": [
        "# Simple audio recognition: Recognizing keywords"
      ]
    },
    {
      "cell_type": "markdown",
      "metadata": {
        "id": "CNbqmZy0gbyE"
      },
      "source": [
        "<table class=\"tfo-notebook-buttons\" align=\"left\">\n",
        "  <td>\n",
        "    <a target=\"_blank\" href=\"https://colab.research.google.com/drive/1Ga0X5AwxcpYIH55vgMxBawa9_tjW7KIL#scrollTo=CNbqmZy0gbyE\">\n",
        "    <img src=\"https://www.tensorflow.org/images/colab_logo_32px.png\" />\n",
        "    Run in Google Colab</a>\n",
        "  </td>\n",
        "</table>"
      ]
    },
    {
      "cell_type": "markdown",
      "metadata": {
        "id": "SPfDNFlb66XF"
      },
      "source": [
        "This tutorial demonstrates how to preprocess audio files in the WAV format and build and train a basic [automatic speech recognition](https://en.wikipedia.org/wiki/Speech_recognition) (ASR) model for recognizing ten different words. You will use a portion of the [Speech Commands dataset](https://www.tensorflow.org/datasets/catalog/speech_commands) ([Warden, 2018](https://arxiv.org/abs/1804.03209)), which contains short (one-second or less) audio clips of commands, such as \"down\", \"go\", \"left\", \"no\", \"right\", \"stop\", \"up\" and \"yes\"."
      ]
    },
    {
      "cell_type": "markdown",
      "metadata": {
        "id": "Go9C3uLL8Izc"
      },
      "source": [
        "## Setup\n",
        "\n",
        "Download and install necessary dependencies"
      ]
    },
    {
      "cell_type": "code",
      "source": [
        "!pip install tensorflow==2.10 tensorflow_datasets\n",
        "!apt install --allow-change-held-packages libcudnn8=8.1.0.77-1+cuda11.2"
      ],
      "metadata": {
        "id": "2tuvqtpIzKXK",
        "outputId": "e61108bd-d414-434a-ca91-f0ca39dc1811",
        "colab": {
          "base_uri": "https://localhost:8080/",
          "height": 1000
        }
      },
      "execution_count": 2,
      "outputs": [
        {
          "output_type": "stream",
          "name": "stdout",
          "text": [
            "Looking in indexes: https://pypi.org/simple, https://us-python.pkg.dev/colab-wheels/public/simple/\n",
            "Collecting tensorflow==2.10\n",
            "  Downloading tensorflow-2.10.0-cp39-cp39-manylinux_2_17_x86_64.manylinux2014_x86_64.whl (578.1 MB)\n",
            "\u001b[2K     \u001b[90m━━━━━━━━━━━━━━━━━━━━━━━━━━━━━━━━━━━━━━━\u001b[0m \u001b[32m578.1/578.1 MB\u001b[0m \u001b[31m2.0 MB/s\u001b[0m eta \u001b[36m0:00:00\u001b[0m\n",
            "\u001b[?25hRequirement already satisfied: tensorflow_datasets in /usr/local/lib/python3.9/dist-packages (4.8.3)\n",
            "Collecting keras<2.11,>=2.10.0\n",
            "  Downloading keras-2.10.0-py2.py3-none-any.whl (1.7 MB)\n",
            "\u001b[2K     \u001b[90m━━━━━━━━━━━━━━━━━━━━━━━━━━━━━━━━━━━━━━━━\u001b[0m \u001b[32m1.7/1.7 MB\u001b[0m \u001b[31m43.8 MB/s\u001b[0m eta \u001b[36m0:00:00\u001b[0m\n",
            "\u001b[?25hRequirement already satisfied: grpcio<2.0,>=1.24.3 in /usr/local/lib/python3.9/dist-packages (from tensorflow==2.10) (1.53.0)\n",
            "Requirement already satisfied: opt-einsum>=2.3.2 in /usr/local/lib/python3.9/dist-packages (from tensorflow==2.10) (3.3.0)\n",
            "Requirement already satisfied: setuptools in /usr/local/lib/python3.9/dist-packages (from tensorflow==2.10) (67.6.1)\n",
            "Requirement already satisfied: astunparse>=1.6.0 in /usr/local/lib/python3.9/dist-packages (from tensorflow==2.10) (1.6.3)\n",
            "Requirement already satisfied: gast<=0.4.0,>=0.2.1 in /usr/local/lib/python3.9/dist-packages (from tensorflow==2.10) (0.4.0)\n",
            "Requirement already satisfied: packaging in /usr/local/lib/python3.9/dist-packages (from tensorflow==2.10) (23.0)\n",
            "Requirement already satisfied: tensorflow-io-gcs-filesystem>=0.23.1 in /usr/local/lib/python3.9/dist-packages (from tensorflow==2.10) (0.32.0)\n",
            "Requirement already satisfied: six>=1.12.0 in /usr/local/lib/python3.9/dist-packages (from tensorflow==2.10) (1.16.0)\n",
            "Collecting tensorflow-estimator<2.11,>=2.10.0\n",
            "  Downloading tensorflow_estimator-2.10.0-py2.py3-none-any.whl (438 kB)\n",
            "\u001b[2K     \u001b[90m━━━━━━━━━━━━━━━━━━━━━━━━━━━━━━━━━━━━━━\u001b[0m \u001b[32m438.7/438.7 KB\u001b[0m \u001b[31m18.5 MB/s\u001b[0m eta \u001b[36m0:00:00\u001b[0m\n",
            "\u001b[?25hRequirement already satisfied: h5py>=2.9.0 in /usr/local/lib/python3.9/dist-packages (from tensorflow==2.10) (3.8.0)\n",
            "Requirement already satisfied: absl-py>=1.0.0 in /usr/local/lib/python3.9/dist-packages (from tensorflow==2.10) (1.4.0)\n",
            "Requirement already satisfied: google-pasta>=0.1.1 in /usr/local/lib/python3.9/dist-packages (from tensorflow==2.10) (0.2.0)\n",
            "Collecting protobuf<3.20,>=3.9.2\n",
            "  Downloading protobuf-3.19.6-cp39-cp39-manylinux_2_17_x86_64.manylinux2014_x86_64.whl (1.1 MB)\n",
            "\u001b[2K     \u001b[90m━━━━━━━━━━━━━━━━━━━━━━━━━━━━━━━━━━━━━━━━\u001b[0m \u001b[32m1.1/1.1 MB\u001b[0m \u001b[31m15.2 MB/s\u001b[0m eta \u001b[36m0:00:00\u001b[0m\n",
            "\u001b[?25hRequirement already satisfied: typing-extensions>=3.6.6 in /usr/local/lib/python3.9/dist-packages (from tensorflow==2.10) (4.5.0)\n",
            "Collecting keras-preprocessing>=1.1.1\n",
            "  Downloading Keras_Preprocessing-1.1.2-py2.py3-none-any.whl (42 kB)\n",
            "\u001b[2K     \u001b[90m━━━━━━━━━━━━━━━━━━━━━━━━━━━━━━━━━━━━━━━━\u001b[0m \u001b[32m42.6/42.6 KB\u001b[0m \u001b[31m1.6 MB/s\u001b[0m eta \u001b[36m0:00:00\u001b[0m\n",
            "\u001b[?25hRequirement already satisfied: numpy>=1.20 in /usr/local/lib/python3.9/dist-packages (from tensorflow==2.10) (1.22.4)\n",
            "Requirement already satisfied: flatbuffers>=2.0 in /usr/local/lib/python3.9/dist-packages (from tensorflow==2.10) (23.3.3)\n",
            "Requirement already satisfied: wrapt>=1.11.0 in /usr/local/lib/python3.9/dist-packages (from tensorflow==2.10) (1.14.1)\n",
            "Collecting tensorboard<2.11,>=2.10\n",
            "  Downloading tensorboard-2.10.1-py3-none-any.whl (5.9 MB)\n",
            "\u001b[2K     \u001b[90m━━━━━━━━━━━━━━━━━━━━━━━━━━━━━━━━━━━━━━━━\u001b[0m \u001b[32m5.9/5.9 MB\u001b[0m \u001b[31m29.0 MB/s\u001b[0m eta \u001b[36m0:00:00\u001b[0m\n",
            "\u001b[?25hRequirement already satisfied: libclang>=13.0.0 in /usr/local/lib/python3.9/dist-packages (from tensorflow==2.10) (16.0.0)\n",
            "Requirement already satisfied: termcolor>=1.1.0 in /usr/local/lib/python3.9/dist-packages (from tensorflow==2.10) (2.2.0)\n",
            "Requirement already satisfied: etils[enp,epath]>=0.9.0 in /usr/local/lib/python3.9/dist-packages (from tensorflow_datasets) (1.1.1)\n",
            "Requirement already satisfied: requests>=2.19.0 in /usr/local/lib/python3.9/dist-packages (from tensorflow_datasets) (2.27.1)\n",
            "Requirement already satisfied: tensorflow-metadata in /usr/local/lib/python3.9/dist-packages (from tensorflow_datasets) (1.12.0)\n",
            "Requirement already satisfied: psutil in /usr/local/lib/python3.9/dist-packages (from tensorflow_datasets) (5.9.4)\n",
            "Requirement already satisfied: click in /usr/local/lib/python3.9/dist-packages (from tensorflow_datasets) (8.1.3)\n",
            "Requirement already satisfied: tqdm in /usr/local/lib/python3.9/dist-packages (from tensorflow_datasets) (4.65.0)\n",
            "Requirement already satisfied: toml in /usr/local/lib/python3.9/dist-packages (from tensorflow_datasets) (0.10.2)\n",
            "Requirement already satisfied: promise in /usr/local/lib/python3.9/dist-packages (from tensorflow_datasets) (2.3)\n",
            "Requirement already satisfied: dm-tree in /usr/local/lib/python3.9/dist-packages (from tensorflow_datasets) (0.1.8)\n",
            "Requirement already satisfied: wheel<1.0,>=0.23.0 in /usr/local/lib/python3.9/dist-packages (from astunparse>=1.6.0->tensorflow==2.10) (0.40.0)\n",
            "Requirement already satisfied: zipp in /usr/local/lib/python3.9/dist-packages (from etils[enp,epath]>=0.9.0->tensorflow_datasets) (3.15.0)\n",
            "Requirement already satisfied: importlib_resources in /usr/local/lib/python3.9/dist-packages (from etils[enp,epath]>=0.9.0->tensorflow_datasets) (5.12.0)\n",
            "Requirement already satisfied: charset-normalizer~=2.0.0 in /usr/local/lib/python3.9/dist-packages (from requests>=2.19.0->tensorflow_datasets) (2.0.12)\n",
            "Requirement already satisfied: idna<4,>=2.5 in /usr/local/lib/python3.9/dist-packages (from requests>=2.19.0->tensorflow_datasets) (3.4)\n",
            "Requirement already satisfied: urllib3<1.27,>=1.21.1 in /usr/local/lib/python3.9/dist-packages (from requests>=2.19.0->tensorflow_datasets) (1.26.15)\n",
            "Requirement already satisfied: certifi>=2017.4.17 in /usr/local/lib/python3.9/dist-packages (from requests>=2.19.0->tensorflow_datasets) (2022.12.7)\n",
            "Requirement already satisfied: google-auth<3,>=1.6.3 in /usr/local/lib/python3.9/dist-packages (from tensorboard<2.11,>=2.10->tensorflow==2.10) (2.17.1)\n",
            "Requirement already satisfied: werkzeug>=1.0.1 in /usr/local/lib/python3.9/dist-packages (from tensorboard<2.11,>=2.10->tensorflow==2.10) (2.2.3)\n",
            "Requirement already satisfied: tensorboard-plugin-wit>=1.6.0 in /usr/local/lib/python3.9/dist-packages (from tensorboard<2.11,>=2.10->tensorflow==2.10) (1.8.1)\n",
            "Collecting tensorboard-data-server<0.7.0,>=0.6.0\n",
            "  Downloading tensorboard_data_server-0.6.1-py3-none-manylinux2010_x86_64.whl (4.9 MB)\n",
            "\u001b[2K     \u001b[90m━━━━━━━━━━━━━━━━━━━━━━━━━━━━━━━━━━━━━━━━\u001b[0m \u001b[32m4.9/4.9 MB\u001b[0m \u001b[31m23.8 MB/s\u001b[0m eta \u001b[36m0:00:00\u001b[0m\n",
            "\u001b[?25hRequirement already satisfied: markdown>=2.6.8 in /usr/local/lib/python3.9/dist-packages (from tensorboard<2.11,>=2.10->tensorflow==2.10) (3.4.3)\n",
            "Requirement already satisfied: google-auth-oauthlib<0.5,>=0.4.1 in /usr/local/lib/python3.9/dist-packages (from tensorboard<2.11,>=2.10->tensorflow==2.10) (0.4.6)\n",
            "Requirement already satisfied: googleapis-common-protos<2,>=1.52.0 in /usr/local/lib/python3.9/dist-packages (from tensorflow-metadata->tensorflow_datasets) (1.59.0)\n",
            "Requirement already satisfied: pyasn1-modules>=0.2.1 in /usr/local/lib/python3.9/dist-packages (from google-auth<3,>=1.6.3->tensorboard<2.11,>=2.10->tensorflow==2.10) (0.2.8)\n",
            "Requirement already satisfied: cachetools<6.0,>=2.0.0 in /usr/local/lib/python3.9/dist-packages (from google-auth<3,>=1.6.3->tensorboard<2.11,>=2.10->tensorflow==2.10) (5.3.0)\n",
            "Requirement already satisfied: rsa<5,>=3.1.4 in /usr/local/lib/python3.9/dist-packages (from google-auth<3,>=1.6.3->tensorboard<2.11,>=2.10->tensorflow==2.10) (4.9)\n",
            "Requirement already satisfied: requests-oauthlib>=0.7.0 in /usr/local/lib/python3.9/dist-packages (from google-auth-oauthlib<0.5,>=0.4.1->tensorboard<2.11,>=2.10->tensorflow==2.10) (1.3.1)\n",
            "Requirement already satisfied: importlib-metadata>=4.4 in /usr/local/lib/python3.9/dist-packages (from markdown>=2.6.8->tensorboard<2.11,>=2.10->tensorflow==2.10) (6.1.0)\n",
            "Requirement already satisfied: MarkupSafe>=2.1.1 in /usr/local/lib/python3.9/dist-packages (from werkzeug>=1.0.1->tensorboard<2.11,>=2.10->tensorflow==2.10) (2.1.2)\n",
            "Requirement already satisfied: pyasn1<0.5.0,>=0.4.6 in /usr/local/lib/python3.9/dist-packages (from pyasn1-modules>=0.2.1->google-auth<3,>=1.6.3->tensorboard<2.11,>=2.10->tensorflow==2.10) (0.4.8)\n",
            "Requirement already satisfied: oauthlib>=3.0.0 in /usr/local/lib/python3.9/dist-packages (from requests-oauthlib>=0.7.0->google-auth-oauthlib<0.5,>=0.4.1->tensorboard<2.11,>=2.10->tensorflow==2.10) (3.2.2)\n",
            "Installing collected packages: keras, tensorflow-estimator, tensorboard-data-server, protobuf, keras-preprocessing, tensorboard, tensorflow\n",
            "  Attempting uninstall: keras\n",
            "    Found existing installation: keras 2.12.0\n",
            "    Uninstalling keras-2.12.0:\n",
            "      Successfully uninstalled keras-2.12.0\n",
            "  Attempting uninstall: tensorflow-estimator\n",
            "    Found existing installation: tensorflow-estimator 2.12.0\n",
            "    Uninstalling tensorflow-estimator-2.12.0:\n",
            "      Successfully uninstalled tensorflow-estimator-2.12.0\n",
            "  Attempting uninstall: tensorboard-data-server\n",
            "    Found existing installation: tensorboard-data-server 0.7.0\n",
            "    Uninstalling tensorboard-data-server-0.7.0:\n",
            "      Successfully uninstalled tensorboard-data-server-0.7.0\n",
            "  Attempting uninstall: protobuf\n",
            "    Found existing installation: protobuf 3.20.3\n",
            "    Uninstalling protobuf-3.20.3:\n",
            "      Successfully uninstalled protobuf-3.20.3\n",
            "  Attempting uninstall: tensorboard\n",
            "    Found existing installation: tensorboard 2.12.0\n",
            "    Uninstalling tensorboard-2.12.0:\n",
            "      Successfully uninstalled tensorboard-2.12.0\n",
            "  Attempting uninstall: tensorflow\n",
            "    Found existing installation: tensorflow 2.12.0\n",
            "    Uninstalling tensorflow-2.12.0:\n",
            "      Successfully uninstalled tensorflow-2.12.0\n",
            "Successfully installed keras-2.10.0 keras-preprocessing-1.1.2 protobuf-3.19.6 tensorboard-2.10.1 tensorboard-data-server-0.6.1 tensorflow-2.10.0 tensorflow-estimator-2.10.0\n"
          ]
        },
        {
          "output_type": "display_data",
          "data": {
            "application/vnd.colab-display-data+json": {
              "pip_warning": {
                "packages": [
                  "google"
                ]
              }
            }
          },
          "metadata": {}
        },
        {
          "output_type": "stream",
          "name": "stdout",
          "text": [
            "Reading package lists... Done\n",
            "Building dependency tree       \n",
            "Reading state information... Done\n",
            "The following package was automatically installed and is no longer required:\n",
            "  libnvidia-common-525\n",
            "Use 'apt autoremove' to remove it.\n",
            "The following packages will be REMOVED:\n",
            "  libcudnn8-dev\n",
            "The following held packages will be changed:\n",
            "  libcudnn8\n",
            "The following packages will be DOWNGRADED:\n",
            "  libcudnn8\n",
            "0 upgraded, 0 newly installed, 1 downgraded, 1 to remove and 21 not upgraded.\n",
            "Need to get 430 MB of archives.\n",
            "After this operation, 1,153 MB disk space will be freed.\n",
            "Get:1 https://developer.download.nvidia.com/compute/cuda/repos/ubuntu2004/x86_64  libcudnn8 8.1.0.77-1+cuda11.2 [430 MB]\n",
            "Fetched 430 MB in 5s (88.0 MB/s)\n",
            "(Reading database ... 128293 files and directories currently installed.)\n",
            "Removing libcudnn8-dev (8.7.0.84-1+cuda11.8) ...\n",
            "update-alternatives: removing manually selected alternative - switching libcudnn to auto mode\n",
            "\u001b[1mdpkg:\u001b[0m \u001b[1;33mwarning:\u001b[0m downgrading libcudnn8 from 8.7.0.84-1+cuda11.8 to 8.1.0.77-1+cuda11.2\n",
            "(Reading database ... 128260 files and directories currently installed.)\n",
            "Preparing to unpack .../libcudnn8_8.1.0.77-1+cuda11.2_amd64.deb ...\n",
            "Unpacking libcudnn8 (8.1.0.77-1+cuda11.2) over (8.7.0.84-1+cuda11.8) ...\n",
            "Setting up libcudnn8 (8.1.0.77-1+cuda11.2) ...\n"
          ]
        }
      ]
    },
    {
      "cell_type": "code",
      "execution_count": 3,
      "metadata": {
        "id": "dzLKpmZICaWN"
      },
      "outputs": [],
      "source": [
        "import os\n",
        "import pathlib\n",
        "\n",
        "import matplotlib.pyplot as plt\n",
        "import numpy as np\n",
        "import seaborn as sns\n",
        "import tensorflow as tf\n",
        "\n",
        "from tensorflow.keras import layers\n",
        "from tensorflow.keras import models\n",
        "from IPython import display\n",
        "\n",
        "# Set the seed value for experiment reproducibility.\n",
        "seed = 42\n",
        "tf.random.set_seed(seed)\n",
        "np.random.seed(seed)"
      ]
    },
    {
      "cell_type": "markdown",
      "metadata": {
        "id": "yR0EdgrLCaWR"
      },
      "source": [
        "## Import the mini Speech Commands dataset\n",
        "\n",
        "To save time with data loading, you will be working with a smaller version of the Speech Commands dataset.\n",
        "Download and extract the `mini_speech_commands.zip` file containing the smaller Speech Commands datasets with `tf.keras.utils.get_file`:"
      ]
    },
    {
      "cell_type": "code",
      "execution_count": 4,
      "metadata": {
        "id": "2-rayb7-3Y0I",
        "outputId": "1d2e322b-5543-493d-c7d5-04cde021f7c8",
        "colab": {
          "base_uri": "https://localhost:8080/"
        }
      },
      "outputs": [
        {
          "output_type": "stream",
          "name": "stdout",
          "text": [
            "Downloading data from http://storage.googleapis.com/download.tensorflow.org/data/mini_speech_commands.zip\n",
            "182082353/182082353 [==============================] - 1s 0us/step\n"
          ]
        }
      ],
      "source": [
        "DATASET_PATH = 'data/mini_speech_commands'\n",
        "\n",
        "data_dir = pathlib.Path(DATASET_PATH)\n",
        "if not data_dir.exists():\n",
        "  tf.keras.utils.get_file(\n",
        "      'mini_speech_commands.zip',\n",
        "      origin=\"http://storage.googleapis.com/download.tensorflow.org/data/mini_speech_commands.zip\",\n",
        "      extract=True,\n",
        "      cache_dir='.', cache_subdir='data')"
      ]
    },
    {
      "cell_type": "markdown",
      "metadata": {
        "id": "BgvFq3uYiS5G"
      },
      "source": [
        "The dataset's audio clips are stored in eight folders corresponding to each speech command: `no`, `yes`, `down`, `go`, `left`, `up`, `right`, and `stop`:"
      ]
    },
    {
      "cell_type": "code",
      "execution_count": 5,
      "metadata": {
        "id": "70IBxSKxA1N9",
        "outputId": "567e2f90-4ac2-4610-8f88-efae0aa40357",
        "colab": {
          "base_uri": "https://localhost:8080/"
        }
      },
      "outputs": [
        {
          "output_type": "stream",
          "name": "stdout",
          "text": [
            "Commands: ['stop' 'up' 'right' 'left' 'no' 'down' 'go' 'yes']\n"
          ]
        }
      ],
      "source": [
        "commands = np.array(tf.io.gfile.listdir(str(data_dir)))\n",
        "commands = commands[(commands != 'README.md') & (commands != '.DS_Store')]\n",
        "print('Commands:', commands)"
      ]
    },
    {
      "cell_type": "markdown",
      "metadata": {
        "id": "TZ7GJjDvHqtt"
      },
      "source": [
        "Now we split the data into train and test datasets.\n",
        "\n",
        "The audio clips are 1 second or less at 16kHz."
      ]
    },
    {
      "cell_type": "code",
      "execution_count": 6,
      "metadata": {
        "id": "mFM4c3aMC8Qv",
        "outputId": "dc960ff8-5557-4a49-905a-51643a292624",
        "colab": {
          "base_uri": "https://localhost:8080/"
        }
      },
      "outputs": [
        {
          "output_type": "stream",
          "name": "stdout",
          "text": [
            "Found 8000 files belonging to 8 classes.\n",
            "Using 6400 files for training.\n",
            "Using 1600 files for validation.\n",
            "\n",
            "label names: ['down' 'go' 'left' 'no' 'right' 'stop' 'up' 'yes']\n"
          ]
        }
      ],
      "source": [
        "train_ds, val_ds = tf.keras.utils.audio_dataset_from_directory(\n",
        "    directory=data_dir,\n",
        "    batch_size=64,\n",
        "    validation_split=0.2,\n",
        "    seed=0,\n",
        "    output_sequence_length=16000,\n",
        "    subset='both')\n",
        "\n",
        "label_names = np.array(train_ds.class_names)\n",
        "print()\n",
        "print(\"label names:\", label_names)"
      ]
    },
    {
      "cell_type": "code",
      "execution_count": 7,
      "metadata": {
        "id": "Xl-tnniUIBlM"
      },
      "outputs": [],
      "source": [
        "def squeeze(audio, labels):\n",
        "  audio = tf.squeeze(audio, axis=-1)\n",
        "  return audio, labels\n",
        "\n",
        "train_ds = train_ds.map(squeeze, tf.data.AUTOTUNE)\n",
        "val_ds = val_ds.map(squeeze, tf.data.AUTOTUNE)"
      ]
    },
    {
      "cell_type": "markdown",
      "metadata": {
        "id": "DtsCSWZN5ILv"
      },
      "source": [
        "We have to split our calidation dataset into val and test set."
      ]
    },
    {
      "cell_type": "code",
      "execution_count": 8,
      "metadata": {
        "id": "u5UEGsqM5Gss"
      },
      "outputs": [],
      "source": [
        "test_ds = val_ds.shard(num_shards=2, index=0)\n",
        "val_ds = val_ds.shard(num_shards=2, index=1)"
      ]
    },
    {
      "cell_type": "code",
      "execution_count": 9,
      "metadata": {
        "id": "xIeoJcwJH5h9",
        "outputId": "03d907e0-d552-407f-c5d2-fcd135789a20",
        "colab": {
          "base_uri": "https://localhost:8080/"
        }
      },
      "outputs": [
        {
          "output_type": "stream",
          "name": "stdout",
          "text": [
            "(64, 16000)\n",
            "(64,)\n"
          ]
        }
      ],
      "source": [
        "for example_audio, example_labels in train_ds.take(1):  \n",
        "  print(example_audio.shape)\n",
        "  print(example_labels.shape)"
      ]
    },
    {
      "cell_type": "markdown",
      "metadata": {
        "id": "voxGEwvuh2L7"
      },
      "source": [
        "Let's plot a few audio waveforms:"
      ]
    },
    {
      "cell_type": "markdown",
      "metadata": {
        "id": "EWXPphxm0B4m"
      },
      "source": [
        "## Convert waveforms to spectrograms\n",
        "\n",
        "The waveforms in the dataset are represented in the time domain. Next, you'll transform the waveforms from the time-domain signals into the time-frequency-domain signals by computing the [short-time Fourier transform (STFT)](https://en.wikipedia.org/wiki/Short-time_Fourier_transform) to convert the waveforms to as [spectrograms](https://en.wikipedia.org/wiki/Spectrogram), which show frequency changes over time and can be represented as 2D images."
      ]
    },
    {
      "cell_type": "code",
      "execution_count": 10,
      "metadata": {
        "id": "_4CK75DHz_OR"
      },
      "outputs": [],
      "source": [
        "def get_spectrogram(waveform):\n",
        "  # Convert the waveform to a spectrogram via a STFT.\n",
        "  spectrogram = tf.signal.stft(\n",
        "      waveform, frame_length=255, frame_step=128)\n",
        "  # Obtain the magnitude of the STFT.\n",
        "  spectrogram = tf.abs(spectrogram)\n",
        "  # Add a `channels` dimension, so that the spectrogram can be used\n",
        "  # as image-like input data with convolution layers (which expect\n",
        "  # shape (`batch_size`, `height`, `width`, `channels`).\n",
        "  spectrogram = spectrogram[..., tf.newaxis]\n",
        "  return spectrogram"
      ]
    },
    {
      "cell_type": "markdown",
      "metadata": {
        "id": "xnSuqyxJ1isF"
      },
      "source": [
        "Now, define a function for displaying a spectrogram:"
      ]
    },
    {
      "cell_type": "code",
      "execution_count": 11,
      "metadata": {
        "id": "e62jzb36-Jog"
      },
      "outputs": [],
      "source": [
        "#def plot_spectrogram(spectrogram, ax):\n",
        "#  if len(spectrogram.shape) > 2:\n",
        "#    assert len(spectrogram.shape) == 3\n",
        "#    spectrogram = np.squeeze(spectrogram, axis=-1)\n",
        "#  # Convert the frequencies to log scale and transpose, so that the time is\n",
        "#  # represented on the x-axis (columns).\n",
        "#  # Add an epsilon to avoid taking a log of zero.\n",
        "#  log_spec = np.log(spectrogram.T + np.finfo(float).eps)\n",
        "#  height = log_spec.shape[0]\n",
        "#  width = log_spec.shape[1]\n",
        "#  X = np.linspace(0, np.size(spectrogram), num=width, dtype=int)\n",
        "#  Y = range(height)\n",
        "#  ax.pcolormesh(X, Y, log_spec)"
      ]
    },
    {
      "cell_type": "markdown",
      "metadata": {
        "id": "GyYXjW07jCHA"
      },
      "source": [
        "Now, create spectrogramn datasets from the audio datasets:"
      ]
    },
    {
      "cell_type": "code",
      "execution_count": 12,
      "metadata": {
        "id": "mAD0LpkgqtQo"
      },
      "outputs": [],
      "source": [
        "def make_spec_ds(ds):\n",
        "  return ds.map(\n",
        "      map_func=lambda audio,label: (get_spectrogram(audio), label),\n",
        "      num_parallel_calls=tf.data.AUTOTUNE)"
      ]
    },
    {
      "cell_type": "code",
      "execution_count": 13,
      "metadata": {
        "id": "yEVb_oK0oBLQ"
      },
      "outputs": [],
      "source": [
        "train_spectrogram_ds = make_spec_ds(train_ds)\n",
        "val_spectrogram_ds = make_spec_ds(val_ds)\n",
        "test_spectrogram_ds = make_spec_ds(test_ds)"
      ]
    },
    {
      "cell_type": "code",
      "source": [
        "for example_spectrograms, example_spect_labels in train_spectrogram_ds.take(1):\n",
        "  break"
      ],
      "metadata": {
        "id": "Pp8S55hQuGgH"
      },
      "execution_count": 14,
      "outputs": []
    },
    {
      "cell_type": "markdown",
      "metadata": {
        "id": "z5KdY8IF8rkt"
      },
      "source": [
        "## Build and train the model"
      ]
    },
    {
      "cell_type": "code",
      "execution_count": 15,
      "metadata": {
        "id": "fdZ6M-F5_QzY"
      },
      "outputs": [],
      "source": [
        "train_spectrogram_ds = train_spectrogram_ds.cache().shuffle(10000).prefetch(tf.data.AUTOTUNE)\n",
        "val_spectrogram_ds = val_spectrogram_ds.cache().prefetch(tf.data.AUTOTUNE)\n",
        "test_spectrogram_ds = test_spectrogram_ds.cache().prefetch(tf.data.AUTOTUNE)"
      ]
    },
    {
      "cell_type": "markdown",
      "metadata": {
        "id": "rwHkKCQQb5oW"
      },
      "source": [
        "For the model, you'll use a simple convolutional neural network (CNN), since you have transformed the audio files into spectrogram images.\n",
        "\n",
        "Your `tf.keras.Sequential` model will use the following Keras preprocessing layers:\n",
        "\n",
        "- `tf.keras.layers.Resizing`: to downsample the input to enable the model to train faster.\n",
        "- `tf.keras.layers.Normalization`: to normalize each pixel in the image based on its mean and standard deviation."
      ]
    },
    {
      "cell_type": "code",
      "execution_count": 16,
      "metadata": {
        "id": "ALYz7PFCHblP",
        "outputId": "28c933b7-c8dd-414d-d254-445645234578",
        "colab": {
          "base_uri": "https://localhost:8080/"
        }
      },
      "outputs": [
        {
          "output_type": "stream",
          "name": "stdout",
          "text": [
            "Input shape: (124, 129, 1)\n",
            "Model: \"sequential\"\n",
            "_________________________________________________________________\n",
            " Layer (type)                Output Shape              Param #   \n",
            "=================================================================\n",
            " resizing (Resizing)         (None, 32, 32, 1)         0         \n",
            "                                                                 \n",
            " normalization (Normalizatio  (None, 32, 32, 1)        3         \n",
            " n)                                                              \n",
            "                                                                 \n",
            " conv2d (Conv2D)             (None, 30, 30, 32)        320       \n",
            "                                                                 \n",
            " conv2d_1 (Conv2D)           (None, 28, 28, 64)        18496     \n",
            "                                                                 \n",
            " max_pooling2d (MaxPooling2D  (None, 14, 14, 64)       0         \n",
            " )                                                               \n",
            "                                                                 \n",
            " dropout (Dropout)           (None, 14, 14, 64)        0         \n",
            "                                                                 \n",
            " flatten (Flatten)           (None, 12544)             0         \n",
            "                                                                 \n",
            " dense (Dense)               (None, 128)               1605760   \n",
            "                                                                 \n",
            " dropout_1 (Dropout)         (None, 128)               0         \n",
            "                                                                 \n",
            " dense_1 (Dense)             (None, 8)                 1032      \n",
            "                                                                 \n",
            "=================================================================\n",
            "Total params: 1,625,611\n",
            "Trainable params: 1,625,608\n",
            "Non-trainable params: 3\n",
            "_________________________________________________________________\n"
          ]
        }
      ],
      "source": [
        "input_shape = example_spectrograms.shape[1:]\n",
        "print('Input shape:', input_shape)\n",
        "num_labels = len(label_names)\n",
        "\n",
        "# Instantiate the `tf.keras.layers.Normalization` layer.\n",
        "norm_layer = layers.Normalization()\n",
        "# Fit the state of the layer to the spectrograms\n",
        "# with `Normalization.adapt`.\n",
        "norm_layer.adapt(data=train_spectrogram_ds.map(map_func=lambda spec, label: spec))\n",
        "\n",
        "model = models.Sequential([\n",
        "    tf.keras.layers.Input(shape=input_shape),\n",
        "    # Downsample the input.\n",
        "    tf.keras.layers.Resizing(32, 32),\n",
        "    # Normalize.\n",
        "    norm_layer,\n",
        "    tf.keras.layers.Conv2D(32, 3, activation='relu'),\n",
        "    tf.keras.layers.Conv2D(64, 3, activation='relu'),\n",
        "    tf.keras.layers.MaxPooling2D(),\n",
        "    tf.keras.layers.Dropout(0.25),\n",
        "    tf.keras.layers.Flatten(),\n",
        "    tf.keras.layers.Dense(128, activation='relu'),\n",
        "    tf.keras.layers.Dropout(0.5),\n",
        "    tf.keras.layers.Dense(num_labels),\n",
        "])\n",
        "\n",
        "model.summary()"
      ]
    },
    {
      "cell_type": "markdown",
      "metadata": {
        "id": "de52e5afa2f3"
      },
      "source": [
        "Configure the Keras model with the Adam optimizer and the cross-entropy loss:"
      ]
    },
    {
      "cell_type": "code",
      "execution_count": 17,
      "metadata": {
        "id": "wFjj7-EmsTD-"
      },
      "outputs": [],
      "source": [
        "model.compile(\n",
        "    optimizer=tf.keras.optimizers.Adam(),\n",
        "    loss=tf.keras.losses.SparseCategoricalCrossentropy(from_logits=True),\n",
        "    metrics=['accuracy'],\n",
        ")"
      ]
    },
    {
      "cell_type": "markdown",
      "metadata": {
        "id": "f42b9e3a4705"
      },
      "source": [
        "Train the model over 10 epochs for demonstration purposes:"
      ]
    },
    {
      "cell_type": "code",
      "execution_count": 18,
      "metadata": {
        "id": "ttioPJVMcGtq",
        "outputId": "530497e1-8039-481e-d9eb-35fd5235927b",
        "colab": {
          "base_uri": "https://localhost:8080/"
        }
      },
      "outputs": [
        {
          "output_type": "stream",
          "name": "stdout",
          "text": [
            "Epoch 1/10\n",
            "100/100 [==============================] - 11s 38ms/step - loss: 1.7051 - accuracy: 0.3837 - val_loss: 1.2886 - val_accuracy: 0.6185\n",
            "Epoch 2/10\n",
            "100/100 [==============================] - 1s 8ms/step - loss: 1.1667 - accuracy: 0.5902 - val_loss: 0.9205 - val_accuracy: 0.7201\n",
            "Epoch 3/10\n",
            "100/100 [==============================] - 1s 7ms/step - loss: 0.8862 - accuracy: 0.6903 - val_loss: 0.7376 - val_accuracy: 0.7747\n",
            "Epoch 4/10\n",
            "100/100 [==============================] - 1s 7ms/step - loss: 0.7356 - accuracy: 0.7306 - val_loss: 0.6884 - val_accuracy: 0.7826\n",
            "Epoch 5/10\n",
            "100/100 [==============================] - 1s 7ms/step - loss: 0.6256 - accuracy: 0.7866 - val_loss: 0.6127 - val_accuracy: 0.8164\n",
            "Epoch 6/10\n",
            "100/100 [==============================] - 1s 7ms/step - loss: 0.5397 - accuracy: 0.8078 - val_loss: 0.5459 - val_accuracy: 0.8359\n",
            "Epoch 7/10\n",
            "100/100 [==============================] - 1s 7ms/step - loss: 0.4831 - accuracy: 0.8297 - val_loss: 0.5335 - val_accuracy: 0.8320\n",
            "Epoch 8/10\n",
            "100/100 [==============================] - 1s 7ms/step - loss: 0.4311 - accuracy: 0.8491 - val_loss: 0.5126 - val_accuracy: 0.8320\n",
            "Epoch 9/10\n",
            "100/100 [==============================] - 1s 7ms/step - loss: 0.3967 - accuracy: 0.8572 - val_loss: 0.4508 - val_accuracy: 0.8542\n",
            "Epoch 10/10\n",
            "100/100 [==============================] - 1s 7ms/step - loss: 0.3527 - accuracy: 0.8777 - val_loss: 0.4682 - val_accuracy: 0.8516\n"
          ]
        }
      ],
      "source": [
        "EPOCHS = 10\n",
        "history = model.fit(\n",
        "    train_spectrogram_ds,\n",
        "    validation_data=val_spectrogram_ds,\n",
        "    epochs=EPOCHS,\n",
        "    callbacks=tf.keras.callbacks.EarlyStopping(verbose=1, patience=2),\n",
        ")"
      ]
    },
    {
      "cell_type": "markdown",
      "metadata": {
        "id": "gjpCDeQ4mUfS"
      },
      "source": [
        "Let's plot the training and validation loss curves to check how your model has improved during training:"
      ]
    },
    {
      "cell_type": "code",
      "execution_count": 19,
      "metadata": {
        "id": "nzhipg3Gu2AY",
        "outputId": "e8f0d1f7-f67e-4960-c0f0-f6d21e3c47c0",
        "colab": {
          "base_uri": "https://localhost:8080/",
          "height": 564
        }
      },
      "outputs": [
        {
          "output_type": "execute_result",
          "data": {
            "text/plain": [
              "Text(0, 0.5, 'Accuracy [%]')"
            ]
          },
          "metadata": {},
          "execution_count": 19
        },
        {
          "output_type": "display_data",
          "data": {
            "text/plain": [
              "<Figure size 1600x600 with 2 Axes>"
            ],
            "image/png": "[encoded data removed]"
          },
          "metadata": {}
        }
      ],
      "source": [
        "metrics = history.history\n",
        "plt.figure(figsize=(16,6))\n",
        "plt.subplot(1,2,1)\n",
        "plt.plot(history.epoch, metrics['loss'], metrics['val_loss'])\n",
        "plt.legend(['loss', 'val_loss'])\n",
        "plt.ylim([0, max(plt.ylim())])\n",
        "plt.xlabel('Epoch')\n",
        "plt.ylabel('Loss [CrossEntropy]')\n",
        "\n",
        "plt.subplot(1,2,2)\n",
        "plt.plot(history.epoch, 100*np.array(metrics['accuracy']), 100*np.array(metrics['val_accuracy']))\n",
        "plt.legend(['accuracy', 'val_accuracy'])\n",
        "plt.ylim([0, 100])\n",
        "plt.xlabel('Epoch')\n",
        "plt.ylabel('Accuracy [%]')"
      ]
    },
    {
      "cell_type": "markdown",
      "metadata": {
        "id": "5ZTt3kO3mfm4"
      },
      "source": [
        "## Evaluate the model performance\n",
        "\n",
        "Run the model on the test set and check the model's performance:"
      ]
    },
    {
      "cell_type": "code",
      "execution_count": 20,
      "metadata": {
        "id": "FapuRT_SsWGQ",
        "outputId": "3ec13dd4-8164-42bb-ee87-20eb0b1d3fe4",
        "colab": {
          "base_uri": "https://localhost:8080/"
        }
      },
      "outputs": [
        {
          "output_type": "stream",
          "name": "stdout",
          "text": [
            "13/13 [==============================] - 1s 95ms/step - loss: 0.5161 - accuracy: 0.8377\n"
          ]
        },
        {
          "output_type": "execute_result",
          "data": {
            "text/plain": [
              "{'loss': 0.5160808563232422, 'accuracy': 0.8377403616905212}"
            ]
          },
          "metadata": {},
          "execution_count": 20
        }
      ],
      "source": [
        "model.evaluate(test_spectrogram_ds, return_dict=True)"
      ]
    },
    {
      "cell_type": "markdown",
      "metadata": {
        "id": "en9Znt1NOabH"
      },
      "source": [
        "### Display a confusion matrix\n",
        "\n",
        "Use a [confusion matrix](https://developers.google.com/machine-learning/glossary#confusion-matrix) to check how well the model did classifying each of the recordings in the test set:\n"
      ]
    },
    {
      "cell_type": "code",
      "execution_count": 21,
      "metadata": {
        "id": "5Y6vmWWQuuT1",
        "outputId": "adfe2553-1630-44db-ab4a-d3a40d1285fc",
        "colab": {
          "base_uri": "https://localhost:8080/"
        }
      },
      "outputs": [
        {
          "output_type": "stream",
          "name": "stdout",
          "text": [
            "13/13 [==============================] - 0s 4ms/step\n"
          ]
        }
      ],
      "source": [
        "y_pred = model.predict(test_spectrogram_ds)"
      ]
    },
    {
      "cell_type": "code",
      "execution_count": 22,
      "metadata": {
        "id": "d6F0il82u7lW"
      },
      "outputs": [],
      "source": [
        "y_pred = tf.argmax(y_pred, axis=1)"
      ]
    },
    {
      "cell_type": "code",
      "execution_count": 23,
      "metadata": {
        "id": "vHSNoBYLvX81"
      },
      "outputs": [],
      "source": [
        "y_true = tf.concat(list(test_spectrogram_ds.map(lambda s,lab: lab)), axis=0)"
      ]
    },
    {
      "cell_type": "code",
      "execution_count": 24,
      "metadata": {
        "id": "LvoSAOiXU3lL",
        "outputId": "f533e252-b681-4a3c-f538-59b6b057e1f9",
        "colab": {
          "base_uri": "https://localhost:8080/",
          "height": 701
        }
      },
      "outputs": [
        {
          "output_type": "display_data",
          "data": {
            "text/plain": [
              "<Figure size 1000x800 with 2 Axes>"
            ],
            "image/png": "[encoded data removed]"
          },
          "metadata": {}
        }
      ],
      "source": [
        "confusion_mtx = tf.math.confusion_matrix(y_true, y_pred)\n",
        "plt.figure(figsize=(10, 8))\n",
        "sns.heatmap(confusion_mtx,\n",
        "            xticklabels=label_names,\n",
        "            yticklabels=label_names,\n",
        "            annot=True, fmt='g')\n",
        "plt.xlabel('Prediction')\n",
        "plt.ylabel('Label')\n",
        "plt.show()"
      ]
    },
    {
      "cell_type": "markdown",
      "metadata": {
        "id": "mQGi_mzPcLvl"
      },
      "source": [
        "## Check trained model for sample audio\n",
        "\n",
        "Finally, verify the model's prediction output using an input audio file. How well does your model perform?"
      ]
    },
    {
      "cell_type": "code",
      "source": [
        "#provide link to your sample file\n",
        "x = data_dir/'stop/0137b3f4_nohash_0.wav'\n",
        "#x = data_dir/'right/012c8314_nohash_1.wav'"
      ],
      "metadata": {
        "id": "x4MQiAAlw1kX"
      },
      "execution_count": 30,
      "outputs": []
    },
    {
      "cell_type": "code",
      "execution_count": 31,
      "metadata": {
        "id": "zRxauKMdhofU",
        "outputId": "77f60a5d-2721-46bd-e2b5-2961d1f48d42",
        "colab": {
          "base_uri": "https://localhost:8080/",
          "height": 510
        }
      },
      "outputs": [
        {
          "output_type": "display_data",
          "data": {
            "text/plain": [
              "<Figure size 640x480 with 1 Axes>"
            ],
            "image/png": "[encoded data removed]"
          },
          "metadata": {}
        },
        {
          "output_type": "display_data",
          "data": {
            "text/plain": [
              "<IPython.lib.display.Audio object>"
            ],
            "text/html": [
              "\n",
              "                <audio  controls=\"controls\" >\n",
              "                    <source src=\"data:audio/wav;base64,UklGRiR9AABXQVZFZm10IBAAAAABAAEAgD4AAAB9AAACABAAZGF0YQB9AAD//////////////v/8//z//P/8//z//P/8//z//P/8//z//P/8//z//P/8//z//P/8//z//P/8//z//P8BAPz/+//8//z//P/////////////////+////////////////////AQACAAEA////////AQD/////AgACAAIAAgACAAIAAgACAAIAAgACAAIAAgACAAIAAgACAAIABAACAAIAAgACAAIAAgACAAIAAgACAAIAAgACAAIAAgACAAIAAQACAAIAAgACAAIAAgACAAIAAgACAAIAAQACAAIAAgACAAAAAQACAAIAAgACAAIAAgACAAIAAgABAAIAAgACAAIAAQACAAIAAgACAAIAAgABAAIAAgACAAEA/////////////////////wAA////////AAABAP//AAACAP//AgAEAP///////wIAAQD8/wIAAgD//wIAAgD8//z/AQACAAIAAgACAAIAAgACAAIAAgACAAIAAgACAAEAAgACAAIAAgACAAIA///8/wIAAgD/////AgACAP///////////v////7///8CAP//////////AAABAAIA/////wEA/////wIAAgD//wIAAgD/////AgACAAAAAQACAAIAAAACAAIAAQACAAIAAgACAAIAAgD/////AQACAAIAAgACAAIAAAABAAIA/////wIAAgD/////////////AgACAP//////////////////////////AAABAP//AgACAAEAAgACAAIAAQACAAIAAgACAAIAAgACAAEAAgACAAIAAgACAAIAAgACAAIAAgACAAIAAgD/////AgACAP////8BAAIA/////wEA//////7///////z/+//7//z//P/8//z//P/8//z//P/8//z//P/8//z//P/8//z//P/8//z//P/8//z//P/8//z//P/8//z//v/////////////////////////////////+////////////////////AQACAAEA////////AgACAP7///8CAAIAAQACAAIAAgACAAEAAgACAAIAAgACAAIAAQACAAIAAgACAAIAAgACAAIAAgACAAIAAQAEAAIAAgACAAIAAgACAAIAAgACAAIAAgACAAIAAgACAAIAAgAEAAIAAgACAAIA//////7///8CAP//AgACAAIA///+/wIABAACAP////8AAAEA//8AAAAA/////////////////////////////wIAAAD/////BAACAP//AgD////////+/////v/+//7//P/8//z/AQACAP7//P8CAAIA/v////z/AgACAP7/AgAEAAIAAgAEAAEAAgAEAAIAAgABAAIAAgACAAEAAgACAAIAAgACAAIAAgACAAIAAgACAAEAAgACAAIAAgABAAIAAgACAAIABAACAP//AgACAP///////wEA//8CAAIAAQACAP//AgACAAAA//////7///////7//////////////////////////////////////////////////////////////////////wIAAgACAAQAAgAAAP//AgACAP////////////////////8AAP///v/////////////////+////////////AgACAAIAAgACAAIA/////wIAAgAAAP//AAABAAAAAgACAAIAAgACAAIAAQAAAAIAAgD/////BAACAPz//P/8//z//v/+//z//P/8//z//P/8//z/AQACAP////8CAAIA/P/////////+//z///8CAP///P8CAAIA//8BAAIAAQD///////////7/AAD/////AAD//wAAAAD//wQAAgD+/wAAAQD///////8BAP///v///wAAAQD//wIAAgACAAIAAgACAAIAAgACAAIAAQAAAP//AQD/////AgACAAAA//8CAAIA//8BAAIA///+//7//v8AAP//AAABAAAAAAAAAAIAAgD//wIAAQD+/////P/+/wAAAAABAAQAAQD//wIABAABAAIABAAAAP////////7//v////7///8AAP//////////BAACAP7/AAAAAP7///8AAP//AgAEAP///v8CAAIA//8CAAQAAQACAAIA/////wQAAgABAP////8CAAIA/P/8/wEA/v/8/////v/8/wAA///7//z////8//7///////v//P/+//7//v/8/////////wIAAgD8//7/AgACAP///v8BAAIAAgACAP//AQACAAAAAgACAP//AAAAAP7/AgD///7/AgAEAP////8EAAIA//8CAAQA/////wQAAgD//wEAAgD///7/AQABAP7///8BAAIA/v/+/wEA/v8AAAIAAQAAAAIAAQD//wQAAQAAAAQAAQD/////AQACAAAAAgACAAAA///+/wAA//8AAP////8BAP///v8AAP////8CAAIAAAACAAIA/////wIABAD/////AgACAP//AAACAAAAAgACAAIAAgACAAIAAgAEAAIAAQACAAQAAQABAAIAAgD///7/AQABAAAAAQD//////v/+//7//P/7//z//P/8//z//P/7//z//P/8//z/AQAEAP//AQD+//z//P/8//7//P/7//v//P/7//z//P/8//////8CAAIAAgAEAAQAAgACAAIAAQACAAAA/v8BAAQAAgACAAIA//////7///8AAP////8BAAAA//8AAAAA/////wEAAgABAAEAAgACAAAA//8CAAAA/////////////wEAAgD/////AQACAAIAAgAAAAAAAAD+/wAAAgAAAAEAAgD//wEABAACAAIA/////wIAAgACAAEAAAD+//7//////////////////////////v////7//////wEA//8CAAIA//8CAAIAAgAEAAIA//8CAAQA//8CAAIA//8BAAIAAgACAAIAAgABAP//AQABAAIABAAEAAEAAAACAP///v8AAP7//v/+//v//P/8//z//v/8//z//v////7/+//8//v//P8CAP////8CAP7///8CAP//AQACAAEAAQACAAIAAgABAAIAAgABAAEAAQACAAIAAQACAAIAAgAEAAEAAgAEAAIAAQABAAQAAQABAAAA/v////7//v////7//v8AAP7///8CAAIAAQABAAEAAQABAP7///8CAP7///8CAP//AQACAP///////////////wAA//////////////////8CAAIABAAEAAQABAACAAIAAgACAAEAAgACAAAAAAAAAAAA//8AAAQABAACAAIABAACAAIAAgACAP//AAACAP////8CAAAAAgAEAAAAAAACAAIA//////////////////8AAAIAAgAAAAAAAAACAAAAAAAAAP//AAD+////AAD+////AAD+//z//P/7//z//P/8/wIAAgABAAEA/P/6//z//P/7//z//v/+////AAAEAP///P8EAAEA/v/+/wEA///8//7//v8AAP////8AAP//AgAEAAIAAgAEAAIAAgACAAQAAQACAAIAAgACAAIAAgACAAIAAgACAAIAAQABAAIAAQACAAIAAAABAAIA//8AAAIAAAACAAAAAAACAAEAAgACAAEAAgACAP///////wIABAD//wIAAgD//wIAAQD+/wEAAQD///7///////7//////wIAAgAEAAIAAgACAAIA///+/wEA////////AgD/////AgACAAQAAgD+//7/BAACAP/////+/wAAAgD//////////////v///////////////v8AAAIA/////wAAAgAAAP7/AgACAP//AQD/////AgABAAEA/v/8////AQD+//z/AgD/////AgD8//z/BAABAPz/+//+/wEA/P/8//7/AQD+//z/AgABAAIAAgACAAIAAgACAAIAAgACAAEAAgACAAIAAgABAAIAAgACAAIAAgACAAIAAgACAAIAAgACAAIAAgD/////AQD/////AAD+////AAD//wIAAgAAAAIAAgACAAIAAgAAAP////////////////////8AAAQAAgD//wIABAD//wIAAgD///////////////8AAAAA///////////+//////////////////////////////////////8BAAIAAgABAAIAAgD//wIABAABAAIABAACAAIAAgACAAIAAgACAAIAAgACAAIAAgACAAIAAgACAAIAAgAEAAIA//8AAAEA/////wIAAgD/////AgABAP7//P/8//z//v/8//z//P/8//7//P/7//z//P/8//z//P/8//z//P/8//z/+//8//z/+//7//z//P/8//7//////////////wEA/v///wIA////////AgD+////AQD+/////v/+///////+/////////////v//////AgAAAP//AQACAAIAAQACAAIAAQACAAIAAQACAAIAAgACAAIAAgACAAEAAgAEAAIAAQACAAIAAgACAAIAAgABAAIAAgACAAIAAgACAAIAAgACAAQABAACAAIAAQACAAIAAgAEAAIA//////////8BAP///v8AAAEA/////////////wEAAgAAAAIAAgD/////AgABAAIA/////wIA/////wIABAD//wIAAgD//wIAAgACAAIAAgD//wIAAgD//wIABAD///z////+////AAD//wIAAgD//wIA/////wIA///8//z//P/8//v//P/8//z//P/+//z//v/8//z/AgD8//z///////////8BAP///v8CAAIAAgACAAIAAgACAAIAAgD/////AgACAAIAAgACAAIAAgACAAEAAgACAAIAAgACAAIAAgACAAIAAgACAAIAAAD/////AgAAAP7/AgACAAIAAgACAAIAAgACAAIAAgAAAP///////////////////////////////wIABAACAAIAAgACAAIAAgABAAIAAgACAAIAAgACAAIAAgACAAIAAgACAAIAAgACAAIAAgAAAP//////////AQD/////AgACAP/////+///////+/////v///////v/////////+///////////////+////AQAAAP///P/8//z//P/8//z//P/8//z//v8CAAIAAgACAAIABAACAAIAAgAAAAIAAgACAAIAAgACAAQAAQD8/wEA/v/+/wAA////////////////AAACAAIAAgACAAIAAgACAAIABAACAAEAAgACAAIAAgACAAIAAgAEAAIAAQAAAAEAAAD//wAA////////////////AQD///7//////////v//////////////////////AgACAAIAAgACAAIA//////////8AAP////8AAAIAAgACAAQAAgACAAIAAgACAAIAAgACAAIAAgACAAIAAgACAAIAAgACAAIAAAD//////////////////////////////////////////////////wAAAQAAAAEABAABAAAAAQD//////////wEAAAABAAAA/v/8//z//P/8//z//P/8//z//P/8//z//P/8//z//P/8//z//P8CAAAA/v////////////z/AgACAAIAAgD8/wIAAgACAAIAAgACAAIAAgACAAIAAgAEAAIAAgACAAIAAgACAAIAAgACAAIAAgACAAIAAgACAAIAAgACAAIAAgACAAIAAgACAAIAAgACAAIAAgACAAIAAgACAAIAAQAAAP///////////////////////////////////////////////////////////////////////////////////////////////////////////////////////////////wAA/////wEA//8BAAIAAgACAAIAAgACAAIAAgACAAIAAgACAAIAAgACAAIAAQAAAAEAAAD+////AgACAAIAAgACAAIAAQAAAP7/AAABAP7/AQAEAAEABAABAAIAAQD8/wIAAgACAAIA///////////+//z//////////P/8//z//v/////////////////////////+//////////////////////////////////////////////////////////////////////////////////////////////////////////////////////////////////7///////////////////8BAAAAAgACAP//AAACAAQAAgACAAIAAgAEAAIAAgAEAAIAAgAEAAIAAgACAAIAAgACAAIAAgACAAIAAgACAAEAAgACAAIAAgACAAIAAgACAAIAAgACAAIAAgACAAIAAgACAAIAAgACAAQAAgACAAIABAACAAIAAgACAAIAAAD//////////wAAAgAAAPz//P/8//7///////7//P/8//z//P/8//z//P/8//z//P/8//z//P/8//z//v///////////wAA/////wAA////////AgACAAAAAgACAAIAAgACAAIAAgACAAQABAACAAQAAgACAAIABAAEAAIAAgACAAQAAgAAAAEAAAD/////AgACAAIAAgACAAIAAQACAAIAAgACAAIAAgACAAIAAgACAAIAAgACAAIAAgACAAIAAgACAAEAAgACAAIAAgABAAIAAgACAAQAAgACAAIAAQACAAIAAgABAAAAAQD///7////+//7///////7//////////v///////v/+//////////////////////////7///8AAAEAAgACAAIAAgACAAIAAgAAAAEABAACAAAA/v/+//z//P8CAPz//P8CAPz//P/8//z//P/8//z//P/8//z//P/8//z//P/8//z//P/8/wEAAgACAAIAAgACAAIAAgACAAIAAgACAAQAAgACAAIAAgACAAIABAACAAIAAgACAAIAAgACAAIAAQAAAAAAAAD/////AAD///////8AAAEAAAABAAAA////////////////////////////////////////////////AgD/////AgAAAP//////////AQD///////////////////////8CAAAA//8CAP////////////////7///////////////////////////////////8BAAIAAgACAAIAAgACAAIAAgACAAIAAgACAAIAAgACAAIAAgACAAIAAgACAAIAAgACAAIAAgACAAIAAgACAAIAAgACAAIAAgACAAIAAgACAAIAAgACAAIAAgACAAIAAgACAAIAAQACAAIAAgACAAIAAgACAAIA/////////////////////wEA///+//7/////////////////AQACAAIAAgACAAIAAQACAAIAAgABAAIAAgACAAIAAgACAAIAAgACAAIAAgACAAIAAgACAAIAAgACAAIAAgACAAIAAgACAAEAAAD///////////////////////8AAP////////////8AAAEAAgACAAIAAgACAAIAAgABAAAA/////////////////////////////////////////////////////////v////////////////////////////////////7/////////AgACAP///////////////wAA/////////////wAA/////wAAAAD///////8AAAEA/v8CAAIAAgACAPz/AgACAPz/AgACAPz//P/8//z//P////z//P8CAAIAAgD//wIAAgD//////////////////////////////////wIAAgACAAIAAgD////////////////////////+/wAAAgAAAAIABAACAAIAAgACAAIAAgACAAIAAgACAAIAAgD/////AgACAAIAAgACAAIAAgABAAAAAQD/////AAAAAAAAAAD//wAA///////////+//7//v///wAA/v///////////////////////v////////8CAAIAAgACAAIABAACAAIABAABAP////////7//v///////v///wAA/v///////v/+//7//v/+///////////////+//7/////////AQACAAIA/v///wIAAgAEAP////8AAAEAAgACAAIA/P/7//z/+//8//z//P/7//v/+/8CAAEA/P8AAP/////////////+//7//v///////////wIAAgD+////AgACAAIAAAABAAIAAgACAAIAAgACAAIAAgACAAEAAgAEAAIAAgACAAIABAAFAAQAAgACAAIAAgACAAIAAgACAAIAAgACAAEAAgACAAIAAgABAAAA//////////8BAAIAAAAAAAIABAACAAIABAAEAAQABAACAAQAAgAAAAAA/////wAAAAD//////v/+//////8AAP7//////////////wAA//////7///8AAP////8AAP/////+///////+/wAAAQD//wIAAgABAAIAAgACAAEAAQACAAIAAQACAAIA///+//7//P/8//z//P/8//z//P/+//z//P/8//z//P/8//7//P/8//7//P8CAAQAAgAEAAIAAgABAAIABAACAAEAAgACAAEA//////////8BAAIAAgABAAEA/v///wIAAgACAAIAAQD/////AAACAP///v8CAP//AAD/////AQAAAP///////wAA//8EAAIA//8AAAAAAQACAAIAAgACAAIAAgABAAIAAQD//wEA///+/////v/+//7//v/8//7/////////AAD/////AAACAAIAAQACAAQAAgABAAIAAgACAAIAAgACAAIAAgABAAIAAQABAP///v8BAP////////7//////wAAAAD//////////wAA//////////8CAP///v8BAAEAAgACAAEAAgABAAEAAgACAAIAAgACAAIAAgACAAIAAgD///////////////////z//P/8//z//v/8//z//P/7//7/AQD//////////////v8CAAQAAQD///v///8BAAAAAQAAAP7/AAD/////AQABAAEAAAABAAIAAgACAAIABAACAAIAAgACAAQAAgAAAAIAAAD//wIAAAD///////////////8BAAEA/////wIAAgABAAIAAgACAAEAAQACAAIAAgABAAAAAQAAAAIAAAD////////////////////////+////AQAAAAIABAACAAIAAgAEAAIAAgAEAAQAAgABAAIAAgAAAP///////////////////////wAAAQACAAEAAgACAAIAAgACAAIAAgAEAAIAAgAEAAAAAQACAP///////////v///////////////v////////8CAAIA/v/8/wEAAgABAAIAAgACAAIAAgAEAAIA/P/+//7//v/8//z//v/8//7//P/8//z/AgAEAAEAAgACAAIAAgACAAEABAACAAEAAQABAAIAAgACAAEAAQACAP////8BAP/////////////+//7/////////AgACAAIAAgACAAIAAgACAAEAAgACAAEA//////7///////7/////////AQABAP//AAAAAP7///////7////+//7//v/+//7//P//////AAACAAIA/////wEAAAD///7////+//7//v/+//7//v////7//////wIAAgACAAQAAQACAAQABAABAAIABAACAAAA/////////v///////v/+////AAAAAAEAAQACAAIAAgACAAIAAgACAAIABAACAP//AQAAAP////////////////7/+//8/////////////////wEAAQACAAEA/v///wEAAAD////////////////8//z//v////////8AAP//AQABAAEAAgABAAEAAQD+//7////+//7//////////////wAAAgD/////AAACAAIAAQACAAIAAQD//wEAAAD/////AAACAAIAAgACAAIAAAD////////+//7//v///////////////////wEAAgACAAIAAgABAAQABAACAAIAAgACAAQABAAAAAIAAAD//////////////////wEAAQABAAAAAgACAAIAAgACAAIAAgACAAIABAAAAP////////////8AAAEA/v//////////////AgACAP////8CAP///v//////AQABAAIAAQAAAAEAAQACAAIA///////////+/////P/8//7/+//+//7//P8CAAIAAgACAAEAAgACAAIAAQACAAIAAgACAAIAAgAEAAQAAgACAAIAAgACAAIAAAABAAAA/v/+////AQACAAIAAgABAP//////////AAABAAIAAgAAAAIABAAAAP//////////AAD///////////////////////8AAAIA/////////v//////////////AAD///7////+////AgD/////AgD+//7/AAAAAP7//v//////////////AAD////////+//7/AAD/////AAACAAIABAAEAAIAAgABAAEAAgACAAIAAQD///7//////////v///wEAAgACAAQAAgD//wEABAACAAIABAACAAIAAgACAAIABAAEAAAAAgAEAAEAAgACAAEABAACAAEAAgAEAAIAAgACAAEAAgAAAP//AAAAAP///v8BAAAA//8CAAAA/P////7//P8AAAEA/v////7//v8BAP////8AAAEA/v///wIAAQABAAIAAgABAAIA/v/+//////////7/AAAAAP///////wIABAACAAQAAQAAAAEAAAABAAQAAgACAAIA/////wIAAgD//wEAAgACAAAA////////AQACAAIAAQAAAAEA///+////////////AgABAP///////wAAAQACAAQABAACAAAAAQAEAAIAAgABAAAA//////////8CAAAA//8AAP//////////AAAEAAIA//8BAP//AQAEAAIABAABAAAA///+//7//////wAA//8AAP//////////BAACAAIABAD//wIAAQACAAIA//8BAP///v////7//v////////////7/+//8//z//v8BAP7/AgAEAAEA/v/7//z//P/8//z//P/8//z//P/+/////P/+/wEA/v8BAAUAAgACAAIAAgAEAAQAAQD+////AQABAAIAAQABAP///v/////////+/////////////////wAAAQABAAIAAgABAAIAAgACAAQAAgABAP//AAD+/wAAAAD//wIA///+////////////AQACAAIAAgABAAEAAQABAAIAAQABAAAA/v8BAAEA/v/+////AAAAAAEA///+/wIAAgACAAIA/////wAAAQD//////////////////wAA//////////////////////////////////////7/AAD/////AAACAAIA//////7/////////AQACAAIAAgACAAIAAgACAAIAAQABAAEA///+///////7//z/AgACAAIAAgACAAEAAgABAAAAAgD///7////+//z//v8CAAIA///7//z/AQD8//z/AgD8//v//v///////v///wEA///+/wEAAgACAAIAAgACAAIAAgAEAAIAAgAEAAIAAgACAAIAAgABAP////8BAP//AgACAAEAAgD//////v///wEA///+//////8BAP////8CAAIAAQD//wIABAD+/wAA/////wIA//8CAAQAAgACAAIAAgACAAEAAgABAAIAAgABAAIAAgACAAIAAgACAAAA/v8AAAAAAAD/////AgACAAIA//8CAAQA//8CAAEA//8BAP///v//////AgD///////8CAAQAAgAEAAEAAAACAAAA/v8AAAEAAgACAP//AgACAP///////////////wIAAgD//wIAAgD//wIAAQD+//z//P/+//z//P/+//z//P/8//z//P/8/wEAAgD8//z//P/8//z//P/8/wEAAgABAAQAAgACAAIAAgACAAEAAgACAAIAAgACAAQAAgABAAIAAgACAAIAAgACAAEAAgACAAIAAgACAAAAAgAAAAAAAQD/////AAD/////AAD//////////wAA////////////////////////////////////////////////////////////////////////////////////////////////////////AAAAAP//AAD/////AAAAAAAAAAD///////8AAP//////////AAD/////////////////////AAACAAIAAgACAAIAAgAEAAIAAAACAAQAAgACAAIAAgACAAIAAgACAAIAAgACAAIAAgACAAIAAQACAAIAAQACAAIAAgABAAIAAgACAAIAAgACAAIAAgACAAIAAgACAAIAAgACAAIAAgACAAIAAgACAAIAAgACAAIAAQD/////////////////////AAACAAIA//8BAP///////////////wIA//////////8BAP///////wAAAgACAAIAAgACAAIAAgACAAIAAgACAAIAAgACAAIAAgACAAIAAgACAAIAAgACAAIAAgACAAIAAgACAAIAAgACAAIAAgACAAIAAgACAAAA/////////////////////////////////////////////////////////////////////////////////////////////////////////////////////////////////////////////////P/8//z//P/8/wIAAgD7//z//P/8/wIAAgD8//z//P/8//z//P/8///////8//v//v8BAP7/AQAEAAEAAgACAAIAAgACAAIAAgACAAIAAgACAAIAAgACAAIAAgACAAIAAgACAAIAAgACAAIAAgACAAIAAgACAAIAAgABAAAA//////////////////////////////////////////8AAP////////////////////8AAP////////////////////////////////////////////////////////////////////////////////////////////////////////////////////////////////////////////////7///8BAP/////////////////////////////////////8//z////+//7//v/+////AgACAAIAAgACAAIAAgACAAIAAgACAAIAAgACAAIAAgACAAIAAgACAAIAAgACAAIAAgACAAIAAgACAAIAAgACAAIAAgACAAIAAgACAAIAAQD//////////////////////////////////wIAAAD///////8AAP///////////////wIAAgACAAIAAgACAAIA//////7/AAACAAAAAgAEAAIAAgACAAIAAgACAAIAAgACAAIAAgACAAIAAgD/////AgACAP////////////8CAAIAAgACAAIAAgACAAIAAgACAAIAAgACAAIAAgACAAIAAgACAAIAAgABAAIAAgACAAIAAgACAAIAAgACAAIAAgACAAIAAgACAAIAAgACAAIAAgACAAIAAgABAAAA//////z//P/8//z//P/8//z//P/8//z//P/8//z//P/8//z//P/8//z//P/8//z//P/8//v//P/8//z//P/8//z/////////////////AgACAAIAAgACAAIAAgACAAIAAgACAAIAAgACAAIAAgD//wIA/////wIA////////////////AgACAAIAAgACAAIAAgACAAIA//8CAP////8CAP///////wEAAgACAAIABAACAP///v/+////////////AAAAAAAA/v/+//z//P///wIABAABAP7//v/+//////8BAAEAAgABAAIAAQABAP////8BAAEAAgAAAAEA//////////8AAP//AAD//////////wAA//8AAAEAAAAAAAEAAgACAAEAAAABAAIAAAAAAAAAAQACAAAAAQAFAAQABAACAAIABAACAAAAAQABAAAAAQAAAAAAAgABAAIABAACAAUABAABAAUAAQABAAQA//8BAAQA/P8AAP///P8FAAQAAgAGAAIAAQABAP//BAAEAAQABAD//wAAAQAAAAQABQAEAAQAAgACAAIAAgABAAAAAAAAAAEAAgABAP///v8AAAEAAQAAAAAAAAABAAEAAQABAAEAAAAAAAEAAQABAP///v//////AAD+//////8AAAAA//8AAAEAAgABAAAAAAAAAAEAAAAAAAAAAAABAAAAAQABAAIAAQABAAEAAQACAAEAAQAAAAEAAQABAAEAAQACAAIAAgACAAQABAACAAQABAACAAEAAgACAAEAAQABAAEAAQACAAAAAAABAAEAAQD//wAAAAABAAAAAQABAAIAAgABAAEAAQACAAAA///////////8//v/+//8//z/+//+/wAA/////wIAAgABAAQACAAFAAEABgAGAAIAAQAFAAQA/v/+//z/9//+/wIAAgAAAP//AAAFAAgABgAKAA4ADAARABIAEQAOABAAGAAOABgAHAAZAB4AHAAVAA4ADQAJAAgA+//0/+v/1f/Q/8v/x//Q/9P/0//a/8//0P/a/8n/1P/f/9P/3v/u//P/8P8JABYALAAiACYAVgBQAM0AIAEOAQoBzgCmAHgAVwAZAOz/t/9q/2r/DP/2/gD/2f4U/+r+IP8//0v/wf+g/wAA9//0/1EAEgCXAH0AnQDhAI8ABgG6AO8A/gCyAPcAdwCXAFQAFQAiAKj/xP9r/1f/T/8P/zP/Av8f/yX/KP9T/1P/ef+K/6H/vP/L/+D/7//+/wwAGgArAD0AUQBmAH0AkgCoALkAyQDTANgA1QDKALkAnwB/AFgALQD//9D/ov95/1b/PP8s/yj/MP9C/13/f/+m/9D/+P8dAD0AVgBoAHMAeAB4AHQAbwBoAGAAWgBTAE0ARQA7AC0AGQAEAO7/1f/A/6z/nP+R/47/lP+g/7H/xf/e//r/FAAsADwARQBJAE0AVwBgAGcAZgBaAEsAQAA/AEQASABEADEAGgAMAPj/AgAMAO//9//f/6z/xP/M/8H/3//s/8j/t//H/7X/oP/N/+P/pP/r/w0As/8hACkA0f84AAwA0/8IANP/y//0/+j/FgA4ACEAQAAYAOb//v+8/9X/EADs/y0APwAdAC8AKAASAO//AAAJAPL/DQACAOv/uP+//xAAov/i/0cAb//J/y8AR/+Y/ykAcf/c/y8Akv8SANP/5v/o/3r/FQCs/1//HABBAG7/cgBP/+D/W//IAL0ETv2rBSkHWQPQCUIDkgKXAZ4AEQBO/kD/L/12/X79Svz+/U/9Nf2o/Gz+x/6O+4X/ef/m/eb+XgCt/3f+HAEAAR4AJwGzAZEBlgBIAFYBjwCN/0cA3wEy/zj/LwHP/sX+av+5/eP98f6i/Tr+TP7M/aD++/9D/7P/5AC7/z0BY/9eAbMB6f7SAR8BCgAmAJsAfv+//+b/FABvADcAcwLAAY0BXQOfAdUAIwIZ/00Ad/8v/hoBA/4Y/7L93f2M/zj7b/5DAEf9lP+FAcQAOgFcAQQCQwEEAbv/0wKpAC3+EQTC/hgBRQC+/roC3fzn/3IAhv1T/w7+PwCt/9L83QFvAM78gQFGAmIASAOkAqcDSgN7/1oDsQAl/8UAcv+w/4T+kfvo/Zz9ofme/gkA1f0U/VYCUP7R+aoCxf57/eMBMQHxA0v/3QM8BL3/UAW7AZEEZgLhAe4E/AH3ArgA+gC5/1r7yP3s/Zv6Rf7+/df8hfyW/a78fPq9/qf8dv1vAC39WgBKAiT/iQEtA0sCGQJ9ArQDWgNJAc4DnAQo/2wA5ALd/Rv/3wHX/iUAfgD+/3IBXvwVAEYB3vhiAUj91vjtAQT+7PucATwAgfya/5EAYPwp/tH/KQC5/iIAtwUf/fkDyAQr/04DxwPxAeMCdQb0/E0FrALV+98CQ/yY/eb+//vx/mv9hv3L/WT9Pf1f/WP/9Pv8AR4A8P5DBgT/zQGjBUX+SgHyAeAAHAGSAEoCcQF2AFwCnAHx/r4B2/zR/wb/I/o6BeL6zvwoByr59QEdApf8VAI0AFgB//8GA2YAIwHNAuH9VgAYAgX9fwDpAFj/3P+C/ewCHfxc/LwCQ/2k/dMCzP8m/hUA/AJL/ZX/aAPR+/IEiQHV/pUEjQEnAcUAvQMGAcj96ANn/xj90AAn/p793f00/Z3/x/1++ysB2/2o/Pn+ugHl/PD/fgQ1/U8ELgPn/6ADoQQSAHEBvQQ/AM3/JQJHAXz+JP/jA7T9L/z6AvD7j/vP/v79/fyr/jv9JACM/1b7ZAVm+8L+5QfZ+f4CFQSm/coAWgTHAln6tAjxADn82gX4ASIDxfsfBzf/s/ZABU36W/msANP6zf8K++H8KwOn9vgBvQAA/F4DT/9EBZH8Twc9Aqb8cgtk+PME/QUR+0wHOwPq/Q4FAAJF/BYFp/xj/gsBKf1Q/cD8x/7E+yX+Fv4MAQT7Lf+rA9/4oP5eA3/7sfuNBsX+4fqBBs0BMf0xBBgEIP8CAjYFnAHg/qgDjwFL+jUDnAF6+PIFnP+s+m8HP/yA/tYDffz4Aaz+tP2v/kn81v7C/Dr8A/4dAnf8kwCEBsj5+gQHAVf5uwOt/+f9EAIjBbH9KASPA9P+yQTAACQCJP95AQn/Gv5v/ov9XAB/+qkCtP+w+cUFPv4M/X8ELwEn/ToBGQbm+FAD8gGZ+eX+vP8zAa/6fQNABWz6BwPlAx761P87AR4ASv1YAhQEefg2B5oCCvzDBuD///3AAE8CqftcAAIBXP6aAr751QJBABP6zQS8/L/8agI8/i8CfgBQ/AQIhQAo944Lvf5C9QsKlv5H++gCBAPdACT7RgVnBI72vwXfBNv0MwhgAIz6zwUq/ggCGACs/1wDcv87AW0De/1LApUCL/whBQn/mP2PATf8gf4FAIH/DP59A9j9mP8xAkn78gKcAbT96QMGAmj5cQWPAKP67wbm/YH/YgRi/yQAkgZL+q/+PAj280kDogLi83AHXP5U+6gFrP5x/NcGVwAi+80HCv3u/FgEHv45Ap79VwLwBnP5YwZM/+37KwNr+7QCi/z0/M4AdP7i/MX7+AH3/Qz+UAIQABf/4//b/9sGif5K/2QMyvpG/+QIrP36/VEDHQVX+ZoA3Ah885oEWAE28zoIevWfAKT/HfdvB8z2dQFgA236sgRvA8oB5vrsB3wBrfVsDFj+ZP7NAgQD+/0bAcsFtPSPC9T3wvypB9/yRwSk+rr6GQI9+0/7kgC2AaT60QGAA+363QFBAWf/+P9QAmcAKQHcBhj8igdFA3P7JwUMAH/+xfsgAuT9CvmIBqj6Ef2gAur2CgHo/WD6GwQc/aQB1QPM/90DOfyDAxv+5v8nBcP66wTrAIv7Dgk0AG39BQnr+K3/dwLr+uz+MwEZ/Zn9vQXA+GoAfgRY+kMC+AKY/nEHc//k/iUFQfylAMIDi/43/gYESv3w+2QDv/yiADL++gBJAOf61gnI+AAAUgbv+sEA2v+UBEP8/gKKAHH8VgBjAmr98/kVBwn7qfkkBhv/Ev7dAP8E6fsH+noJYfxK9XYLqP5Z9xgK5P3n/XUFCgAn/LcDhv0B/d4EpP06AZf+PwKsAYf3owNoAvnzeQN8BZr87fxxBY0AQ/q9ADEBPADV+YwHv/0OAWUEqfhfCuj7N/2lBnT7EAHh/XcA+v9v/8j/OgHNBB75NQEABNP4YQPbAp/5PgwI/NQAIAnt9+IDlf8sAgn9CARkAsn7eAXdAcL79QBUBUP5Uv9XBAP6kPzNBI355P4tBPb4EQViAa75PgdY/jH+owN4AUP/3QARBVP50waGAqX5pAZaASX+1QNKAv/7OgSz/iH9swVY+aYCugEo9xQITfdLABMDGPiwBGr9Nv8G/9gC5P0H/usEuvrYAkcBkfuVBqb70f4DCqH0dAXSBdX5+wJW/sMGN/vd/lsIaf9l9ScGsgKk9HoGlQGb+1v/OAdm+hAAmgfa9kAA/g0/8qP+gQ1F8VYDrQLlAiD5r/+WCLjxDQXaAdr6kwJx/wID3f6TAHgBMv9ZAz35FwQEAHT+SgO79q4L1/iK+2sQhPPbAiIDef04AgX4AwuO9pT9Zwnc8xIJwPlt/0YHK/S4DKH3gf+nCZzvfBCp+ET5GQ+u9dD9rAxj9D7+eAm28/cGDf1iAwD75gY1BbLvWRJy+MvyJxAq+Nb2rAp7+3/+4QWz/mkB3wPU+5YEbfzTAPcCFPRtDuX8K/FAEEH5TPE4ERL3M/brDej7dPzMBrz/oPxQAgEJHvrm/AcMOfcL/54HKf2i+wcDFgWJ9EwHPAT+8OoMZP4F9kQRzvPp+5cMnPDMAv4A7PuA/mQBRwbS928GzwG3+B0F9/0n/dQAEwE0/dL+mgev91kIpwh495QImAGD9YgHMvze/IMJjPdABL8GpPp9/OMIZPfp+q0L+fe0+KEJPf049O0O6/iu+XMOs/QEAbYDHPqkBo/5kgffADz3uwqv/8v8DAIrBsT/g/sCB94El/kw+xgGCf/y8RYN9voO934N//V3A5sFMflcAJoHVf43+BcPv/zQ9R0Qm/eF/h8HwPv6/T0HIQKg8SsQPf4887gOuPw6+MgGOQCz/sMBOATX/YL90Qnu9rj/2QfL+j7/YwI8BCD4xQLSBtvyGwUCAnT2YgYSATL4PgZcBErzrQ2I/BAAIQUw91wNk/DGB1gBr/RVDI/85fpHCk/9jvt7B3T7PwLS+GMLYviE/CgKtfUPBVb6EAMw/XT7lgZ+++8A4QKgA8/8dgaiBavzmQ/v90383ggp8tcKcfX6AhYD4ffUCWn0Gwd1/J756QvG8W4CgwNQ+38B4AC2BX/6OgTNBCD6gQPJBEH4pgPUBp708ASyAkL1UgElBKP6xwHCAJP+kgDg+U0ANv/N/C/9ngBoAnP89wBYCTr38QeXAhb8qgni+LUFov0iAYIAa/tzAmr9XPutArQARPvUAqn9mQIH+BsBnAfc9WAEkgOC/fgCqP1KBdr+zP9YBB39Xgh79OwDFwWo708IjwCP+8X/BABpA9L2KQNqAvTziwmk+sv8YQXM+bwE9P47ARkAnQAXAW4B9P0ZAmIC6/dZB5n9L/xmBkj94ADqAVH+xQAEAnj8FAG9BsX5uv7ECd31LABmBg77DgL7+zgFuPm9AGQAYfy1B3j1pAaQAc35lAVQAKwAHP/P/2IEVPyZ/0QC4v5M+50BTgP99L4Hrf2h+r0Fq/7D/hUAfQS4+tT/UAQa+TD/9gKq/WIAdwLTAXr/DAFsAnr/Yv1dAQEAbP5E/hACif69/eAC8/8AATwAiQJk/hEAFf8r/2wA1f6yArP+EP+rA1z9dwBbBO36EAKmAgz+tP8WA9MA4/x5A3H/t/6gAXr/KQI5/A8EYABa+vgHDvpiAgcD/PkdBUD+qgDu/mMCNv8u/NoGYPoyA8YB1vztBSf8qgBcBI/6qwFJA+367AT6/oz/GgNM/wICpvxbBVn8Qv+CBiL3mAPxAw76LQLCAfz7tQApA8f97P55BNn9C/8pAgj/HgOS/UAEFgF5/MUERP1//RIDVf6a/uYDcfyTAHYEnPxrAFwDU/9x/nICN/8b/ZgDN/0KADMDZvtCBfj/2vpRB3j+vfkYCW362P3qBiD4FQZG/5/+fQT4/KQBt/4JAtP+m/tNBZr8Dv0FBoD62AA7Awr81ASo/hYA2wJI/DcDY/+q/VQDdv3f/00BHP9G/pT/gQFu+ywCngDH/FkDkv4X/24BCQBq/6MBVADZ/RoCW/8F/37//v+x/wb+4wBD/0f/rf8dAC3/g/9oAKj+9ACj/l7+NwKm/bD/lQGP/aYAbADw/tf/S//+/xgAHf5iANT/vP0YAUUAMv4vAEQAQv6uAAwAJv4jAZ7/mP6RAGX/Bv8dACz/FgAh/x3/gQFp/nX/ugFQ/m3/jwEL/wwAwgBY/w0ApP/U/6L/VP/4/5H/GQASALP/1f/+/w4ADQB3AC0AHgBqACwAr/+iALf/kf+bAKH/d/97AMX/v/8UAYn/y/+yAOj+IgB/ACz/bgA8AHn/6//3/5n/GgAdAGMAMADn/1EA6P90AEMA2v9FAPf/ef/N/zkAhf+F/54AVgC3/4cAUQCw/yIARAA8ACAArf9gAOf/hf+NAJL/tf9PAKr/y/8oAOL/rf8/AEUA1/8mAEQAuP8VAEsA9/8rABwA3//3//D/+/9TAAIAMABnALX/bAAsAMP/WADc/xYAUwBFACUAZwC1AIYAXABvAKoAMADdAI8AKwAuAWcATwDRAGcAZwDFAHcAXwC6AEMAfwCGADcAjgBbAE0AWAB/ACkAIACbACQAYgDMADsAUQCHABkAYAB/AGMAkwCNAG8AoQCjAGoAngBgAEkASwA9AP//ZAB2ANX/ugBbABIAowA0ACkAPAAYAFcALQDa/2wAFgDy/1oA2/8CAPr/w/8WABgACgA4AB0A5P8AALD/9P8WAKb/FQAAANz/2P/j/zgA8/8VADsA/v+8/xkAYgDA/zkAoQAaAA4ASQAvAAYATAA/ADAATwBTAAgAFgAxALT/BQAEAKH/1/8cAM//t//2/8f/zf/e/woA2P/s/9//if/D/8X/4P+w/5b/zP+M/z7/f/+Z/27/WP9z/63/UP9y/7j/T/95/6L/lf+v/5r/w/+S/5r/pv9m/6j/5/+N/1T/3/+D/0b/wf9x/2P/uf+c/2n/uf/Q/3f/zP/A/6T/xP+p/8X/lv/J/5j/nv8IAG3/mP/R/3v/pf/o/7X/hv/u/+D/2v/4/wkA+v8IAFwACgD+/zgAQwBRAGYANQAWADMAEgAAACkABgDm/xEA7P/M/wQABADb/wwA7v/I/woAHQDU/7n/KQDu/7T/IAAFAMf/CAD2/8v/EQCt/9f/JgCR/+L/8v/X/+z/0f/4/8j/yP/X/wgA7/+k/zMACQCd/xIADQDN/woADAD0/w4A5P/v/yYA6v/a/xwAKQDs/yIAJADX/yIAFADr/woAAQDf/woADADe/xEACgAAAA0A+v8QABwACAAJAB0AFAAEABAAAAAIABYA/v8WACUA/v8BAEAAMAAOADsAOQAiADQARQAxADwATQBBAD8AQQA7ADkASQA8AEEAPQAWADcAQAAoADEASwA9AB0ANwAiABEAIgAgACwAPwAlACsAUwAxADwARwA4ADgATABbACQARwBYACYAQwBAADUANwA3AEQAMAA5ACwALQBAAB0AKwAzABUADgAdAAkA8v8IAAQA7v/+/wQA9//v/wIA+P/3/x4AAQDv/xYAAADo/woAAQD+/wYA7v///wYA4//r/wIA5//n/wgAAgAQAAgA+v8BAPj/AAANAAYA9P/q/9j/0f/s//P/6//6//j/7/8AAP///v/w/+L/AQD8//j/AAD4////6P/q/wgA9P/X//P/+//m//b/6v/e//L/5//3/xkAAQAOABgA//8IAA0A+//6/wYA7v/v//f/7v/7/+//4v/o/+v/5//v/+z/3//s/+r/6P/4//z/CgASABEABgAVABIAEQAzABEACgAJAPT/9//s//r/8P/n//L/7P/y//D/6//z/+z//v8FAPD/+//0//b/+//q////9P/V/+D/4P/j/+T/9v/6/8v/1f/o/9X/5P/m/9T/4P/f/9z/6P/v/97/4P///+//8v/8//r/BgD4/+f/8P/8//v/+/8CAAUA8//y/wUA/P/s//r/AAD0//b/9//u/+//6v/e/+r/7v/r/+//8v/v/+z/6v/f//v/CADz//L/+v8AAPj/9v/7//T/8//s//f/AADz/wYABAAEAA0AAgAkABQABgAIAPj/AQACAAAA8P/y//P/7//r/+L/5//6/wIA9v/7/wIABAAGAPf/+P/7//r/CQABAAIA9//6/wUA9v/+/wQAEQAOAP//AgAVABIACQASABUADAANABAAEAAZABQAIQAZAAIADQAJAA0AFAAKABUAGAAZACQADQAGABgAEAANABkAEAAEAAkADQABAAIABQAFAAkA//8BAAIA//8IAAEA9v8NAAUAAQAQAAEABAAAAPr/CAAVAAkADgAcABYAEAAYAB0AEQASABwAHAASABYAEgAKAAYABQANABEAFgAZABkAGgAVABIAJQAaABgAHgAhABgADgAeABUAEQAYAAoACAASAA0ADAAGAAIABgABAAUADQAAAAUAAQD6/wAA//8IAPz//P/+//L/BAD8//v//v/w////BAD//wEABQABAPj/BAACAAgACAD//wAA/v/3//7////z//7/+v/v//r/AgD/////BgD//wIACAAFAAAA/v/+///////+//7////z//L//P/y/+v/9v/8//T/6//u/+//7v/z//L/9P/8//z/BAABAPz/+//8//v/9v8AAAAAAQD///T/9P/z//v/8v/z//7//P/6//T//v/0/+7/7v/u//f/7P/r/+z/3//q//b/8v/0//P/+/8GAPz/9v/8//7/+v/7//v/8/8AAAUA+v/2//v////7/wIA+P/4/wAAAAAAAPz/AQD///j//P/4//b/+//8////AgD8//r//P/8//7///8AAP////8BAAEA/v8BAAEA//8EAAEA//8GAAUABAACAAEAAgAAAAYABQAAAAIAAgAFAAQABAACAAQABgACAAQABAAEAAAA/v/+//z/+v/+/wQAAQABAAEAAQABAAAAAQAEAAQABQAFAAUABAAEAAQABAAEAAQABQACAAUABgAEAAUABgAEAAIABAAEAAQABAAFAAQABAAEAAIABAAEAAQABQAEAAQABgAEAP//AQAEAAUABQACAAQAAgABAAQABQAAAAUAAAD2//v//v/7//z/AAAAAP//AAACAAUA//8BAAUA/v8AAAYABgAGAAYABQAGAAAAAAAFAAAAAQAAAAUABAD4/wQAAgD4//z/BAAIAAUABQAFAAIAAgACAPr///////z/BQAFAAQABAD8//z/AgAFAAQABAAFAAQABQAEAAIABAAEAAUABQAFAAUABQAFAAUABQAFAAUABQAEAAQAAgACAAIABAAEAAAABQACAAAABgABAAEABQAAAAEAAgAAAP//AQACAAAA//8BAAAAAAABAAAA//8AAAAA//8BAAAAAAAAAAAAAAABAAEAAQAAAP////8AAP//AAAAAAAAAAD//wAA/////wEAAQABAAIAAgABAP////8AAP////8BAAAAAAABAAAA////////AAD//wEAAgAAAAQAAQD//wUAAgD//wYABgAEAAQAAgAEAAQAAgACAAIABAAEAAIABAACAAQAAgABAAQAAQACAAIAAgAEAAAA//8BAP//BAAAAP//BAD8/wEA/v/6/wIA//8EAAIA//////z//v/8//7//P/6////AAAAAAEA/P/6//r/+v/8//v/+//8/wEAAAAAAAEAAAD//wAABAACAAEAAAD//wEAAQD/////AAABAP////8AAAEAAQACAAQABAAFAAIABAAFAAQABAAEAAUABQAEAAUABAAEAAQAAgAEAAQABAACAAIABAAEAAQABAAFAAIABAAFAAQAAgAEAAUABAACAAQABAACAAEABAAEAAIAAQACAAQAAQACAAAABAAFAAIAAQAAAAIAAQAAAAIABAAGAAIAAQACAAEAAQD+//7/AAD//wAAAQAAAP//AgABAP//AgABAAUAAQD+/wQA/P/+//z/+/8AAPz//P/+//f/+P8FAAAAAAD+//z/AAD6/wUABAAEAAYABgAOABAAEQAMAAwAAQD6/wUAAgAAAP7/BgAGAP////////7/7v/s//L/7/8AAAkACQAJAAUACgAAAPj/AQD7//v/BQAGAAIAAAAMAAYAAQACAPb/+v/4//L/7v/z//P/7v8AAAoAAgAFABYAEQAEAAQACQAIAAAAAgAFAAIACQAJAAUAAgD3//7/AADz//b/BQACAO//7P/v/+z/7/8BABEAGQAhABoAEQD8/9v/+v8lACEARwCHAI8AbAAtAPD/pv9l/3L/qv/f/xQANwAvAAUAyf+W/4X/of/r/1QAwQAXAT8BNgEDAbkAdgBXAFsAbwCLALAAwgClAFwAAACU/yX/4f7e/v3+I/9X/43/mf+G/4H/f/9e/zz/VP+R/83/OwDpAEEB0wBEAGcAzQB9ALn/ov8mAP//+f6S/lP/3/+Z/4n/DQCCAPsAkwF4AcYA5wAEAgIDuAN1BEQFHQfiCQMKkgWwAKP+ZPxN+Hr29fcA+CD25/Zq+c746/aR+Dn7k/rZ+ab8kv+hAKoE4wvnDacIHQQZBdUD0v75/lUBFAAZABACNABM/bn+DgC1/RT9X/+i/7EAUgRqAjQA/giaC3sC+gEqAwEA9voa/DMBLfvX+Hr9EPrr9GX2V/k9+KH17Pl8/ir8x/w1AiIDFgHk/0MBMgNkAM0CkgO5ALIBVwoNCkb+iwnyDgMBdQEzDAkPrAT9A3wO8P8YAOoF0/2p/Yr9JwVr9Nb4K/3U7Tn3+PA09KX1e++U/MT2P/cX/LP2lwEw/Qv/vgVG/oAHVwfACnsNSAYxESINhQZSDFAJLAfZA7gEkQurBZMClAbpAV3/9/8d/Sj5jvm++R377ft4+oL/fP5Y/DUAhf7rAGT8rfkzA2///AAtBMcCcAUYAnUFogRVAbcEDQKtAlQDIwOqBP4BCAJuAUUAMf7P/Nz9vPjI+bz8MPmF+mz8gfue+2D+H/x5+Gn99fnn9ED7RfxP+Yv6rf1I/kL8m/w3/ZD8SvoS+m/9+/1r/vj+yQCNAdT/5wKqAlQBjQLKABkCxQI1A7YFlAWMB40ItwhSCpkJkQpTC4oLkwwjDIgMcgu2Cv0KBwlYB6IFFwVtBdwElAMpA4oEcAUlBvkDcgKeA3sBmv/k/mz8JflB92v3HvZ48zbzo/Xy9nH2Yfdf+Br6xft1+oz6lPrK+gz7Hvir9xn0qO4m7FzoouRd3o7bm91/35rhYOCr4Bbj1+QU5Qzj8uIm5KLo8O4l910BWQz1FSYoYzs7RZZMek7MWW5fPlpBVY5MMU0oSoI9uzG0KJIg8w8sAP70d+iP1SfG0MDYuiW4R7F6sHW7gMZAz0HSc9wI7R73KfzyAWgL4hXlH7AnOTMAPH9A7EMJQ4xDvTsUMA0llxsmFL8Hb/vt79Dp8uNs2f7P5sa3wd28MrrBuQq8u8Q3zcfX6eLO7Vb2uv15BBgIxgjcB6wKhQyJD7wReQ68DeUNwwyuBZT65vEN6jXjCNxg1APORcu6yHTHg8WTxXHGrM6Q5sL85hMfJyNAylyMa8d0YnFtcCpwVWkyYahVU1B1SSNCVjiYJ0ASH/gN47bLrLZLpKKTSpEtl+Ckuq/Eug7O4+F087X9CQaEDvgZXyWOLpc7okZoUx9cymEpZOxZ+EryNcMgcgbx6PfRB8GNtxqv860isWW2nb0FwtzGasjcyxPQldTI3Zrn/PIr/9ENeBmWHzIiASBIHLUVtA+3B+oBlgPwA2kE8gKSANr8YvQU63Tfb9QKzDvHX8dayh/O8NDp1BfZAtsd2WrVUNdY4YnyxQdFH5A4SlKaaLZ4/39rfVx0E2WEU0pCwzFqJOQYxxBTCqX/lvIT5L7TwcIosbyh85gVmfufAq0nv9jW8PAsCNYdPC47OMQ9rz7qPss+XD28O2g5vzc4NcgtdyGbELT9WOjj0We+m6+Fp7CkQqnDtDbE4dVQ5cXyyP02Bj0L5wzhDqYRYRUKGvMgWifJKbwp+CWOHywVZwcX+sDtc+UM4APdGt654VTmveol7qbvhe927aHrWusW6gvqlOsS7zL1j/kh/Mf8xPqV99XxEeif3lnVsc9Q1irkuvoVFSAvDUzSYYFy9XhccapkaVJcPyMvaSE7FyURbw+6D+sMJwR6+OLnVdPRvyGtOaDHm86fxK2Aw1TfPf3rFlIrzTmsPy0/tzj7LiEntCCzHiIgTiJ3Jj8nnyKTFwEGMPLo2QjCY68UpNujiapbufnM2uSe/DcOXhtUIe8iCx41Fw0Sbg2HDGwN0hIxGQQcwRqWFLYL6v7t73DhddVlzt/NXtTG3uzqwfXx/qAGNwoLCQkEwP06+Kjz/fHD85z2Yvqu/fv/RwFs/v/2gOwv4j3YU8/FxzjD1MKSyfjhogFbIFQ2bkkqY0B18XlQa1JZ4U2DQjAyIB60E34PTgyVBssBGPwQ7WraIsiTu0GwAaOGnfmkXLpd0pHnegD3HBs1qEGKRdxF7EG7NkAqtCJWHpMbhBb3FCMXQhSLCX73ROas1oDE5bJEqcGoGLO/wSHUQu2IBaMbhSjWLy4zqy66JbkaWxI2DDsI7gb+CEkMGgzTCJ0CqPt78TDludxY17vVGtd13pvqUvbH/8gGOQ6LEm0QmgmPAqD98Pdv8qvvD/Ff8zH1vvdD+nP8XPnZ8EDnX95Q1hzNB8bLxk7NCeEnAQkhhTqgTNtjS3lafdhvGVkRSFI8SSqvEsMBef3p/gH9DfkN9r3sU99d02/HH71gsBSq5bL3xH/a9+3sBD0hJjpBR6JK4EhCQts2HiY1Gd4OhgLn+gn5K/xT+6ryPOo048Lbms+SwAW3Y7h0wVnMit6s9F4OhSUJNFRAJEMBQa82/SYUGt0MfQBV9QDxE/K/833x0e9478rtpupz4+PfhN6O3wzlRusm9s4APwq7EwYb0x5AHAsW0A/jCBH+lvP+67fnfOZZ5HDk2OWL5mnnjOQP4NjbS9Wx0DbPltCj2a7jyftvHK41YkwTWpxurnoVdJZk7kycPhou8hUd/mLwBO8/7TjocOS95SPiQNpy0SLJvsUiv1y9KsZU1h7syv5LE50rQkFcTRFONUmKQj43PyQEE4MDhvdY8AXqa+iU5zfnNeXM3+3bgNc20Q/KTMma0K7bquiM90oQFyYSNfA9fUANQwY5JSr+F2sFevra7DDjj98m4Y3lbudD69nx/fRo8yPy0/Be8p3yR/IH9o37YgObCfENZhH4EqIRtg3JBuv9h/Uk7XXo2+Wv4qrhi+I/5w/rwuvl6ijp1ugg52PlI+Ou4wnrQfVPDDsk7DdjShlX6WwFc3BpxlY6QFU13CA+Bsnskd/Z3yLfJ9vR2Nrdbt/x3abZTNZb1pLPpdDE2n3pO/pSBVcYjTAlQ55K+0eORFFA4jNhH2UMT/t27jvkc9uX2VTY/tht2hTcn9+i3yLdeNsD37bkSOwP9Zz/exGHIYAxKDvXPGQ+dzdFL5Qgbgzd+QLovN9A2p3U9dFg1jvhY+ul8G3zOfh/+wD+HP0X/CL+HABSBOQJkBCzFGETGxKMEv4OhAMq9UPrTual4PjY2tUD2czg+ucz6/nv4/Tv9rr1hfF97insFep468ny0f3kEjYo+TrsTQ5Z/GdJaX5gZVHzObwpRhRH/QPqztzD2MTWiNV0183bpNxA3qLd39xb3/bc0uDW6Qn2XQXkEFEh9TPmQRpIx0XTQMo5zCsqF6QCFPB04ojXhs/bzTrOZdIh2BreiOQg5zLpFO0V8QL1xPc9/rEJVBQJH9QnMTG6N2s2YTHjJo0aogto+b7oAtve0nHPWM5O0THZ2+KN7Oj0hvtuAVwETQWGBeMErQTBBOAFAwmbDCQPqQ/aDuQNXwqqAeT36+9I6HzhIdwl3OneA+Jm5x7uKvWR+Dn4Gvjx9ubzUe5t6bLqd+7e9B//MxNmKTs7CkntVNtiAmP0WCJHYzTcJYYPKvhB5LfawtlC1xbWDdoZ4RDlmOXQ5Sfo7OcG5DXlpOuQ9nAB1gosGrgrnjntPuc8lTrPNGIm5xG7/oXuP+BB0zbMicxWzunSm9m542XtUfFz9Fn4sf0OAX4AWwKvCZ4TNRqiHigkTisDLpwnQh4oE7YHlvkR6aLc5tOH0BfRpNPX2n7lg/CY+joDOwpsDtMNFg20DG4KmAcdBcUFMgdnBw4HKQZ7BFgBSfxE9XLvVOpE5jHjzOHZ4w7myun17fXx2vQ89pf45/g0+AX2X/S281/yqPSJ9j78kwO5DfAfDS3YOldDEEsiVD1RIUp4Ohcs+B+sDqP8Iez24+vfENw+2VvbP99E4XPkUOcg7FbtyuxC8bH3XwD3BikNxxfGJCAu3zAxMCIv9Cy9IasS4wST94bsiN9e2LTV+9R910TaXOEH6CPttPC58hz3RvrT+xv95wFLCmcQBxa+Gg4h/iQkJXQjoRxOFYAMKQNq+PrtnOf44xrj2OM56F3tOvMX+lT/ywNsBUAFwwOMARgA+/0C+1v5Q/or/Gb9Ev6i/lb/r/5f/dT71vh69TryM/BH7uzse+w37c/uhe/V8b/yb/MI9EnzvPSY89jy5PGq8h/2p/mA/sEHQxotKZs1MT06RzFVs1QoTslATjb9LCsaSQe/9jzu+uep4FrcVN3X4IDhoePv5Yjpz+kk5xXq6e5P9kD7lQA5DQYb6iadLJMvKzOJMkgqAh2fDmAArPGd4arWVNCuzCvMK84d1izfD+YS7HPy2PmU/lMAlQG2BYQKtg8JFfkZPiDMI0Engif/IqMbnBH5B5P8bPD65eTe2dru2ozevuOp6uXx6/ozAiUGoAi1CJ8IVAfzBAgDeAA2/3H/nv9P/yX+WfzA+nr46PXr8ibvqe1J7WzsmOs/7E/uPPDb8TTzDvVA9iX3ffi8+Ln5mfmE+Bz5Gfkp+b74P/mj/JIArQTADowbKSfgMEk3M0PnSnNKCUXMOl40Tim8F+4FPffa7WTkFdpu1anWYNi72t3dguMg6a/qg+0b8sD37vzg//AFERBmGswhqiVWKU4tgCsSI5sYVg0fAij00+WI3MLV+tGr0DLSwdiJ4HHnHe5f9Vf9zQLIBGkHpQqvDJcNdw+7E3cWBhjjGH0ZoxjMFMkPOggeAUn6OvO17P/nf+ew5/HoVOyi8Qr3UvsU/4MBfQJgApkBTP8b/fv79/ou+nz6GP1r//z/zP9mADcBe//i/Df6V/ht9h/0IvOs8hvzrvNW9GD15Pat93z3avjN+bn5FPm++fz7Yvx0+hr6Pfrm+Lv2IPbi92f7Yv8eCYwVdCFZLX82tUJFSoNMeEgGP1s2ESr0GvEIyfmT7szlgt6y2ZrZ0tk83E/fXOOp5+bo8+uA74D0gvl0/BIC/Al6Ezwa+h2lIVMlRyYgIgIcLBSqCzoBCPaa7ALkRt1s1zTUrtSN10zbd99E5hrvJffy/IoCPAlOD6sTDRaCGG0bxBwVHfkbohq1GFAU+g6hCMoBn/rY8mLs6ufO5Pbil+LZ5J3pje6m85P59P+uBd4Inwp8DC0NIwxICWsGhgQaAuj+k/vV+eP4HPf29Krzb/NW8orwNe/n7sjuNO4s7rbu8e8I8QryoPNZ9bn3dPmA+mn8zP3o/ij/c//Q/57+Kf1Q/Ej7sPqP/OH+fAPVB50PDBuFJHIupDM2OlQ/iz+rO+4xsymKH+gSLARR91zuK+bv36Dbo9tE3JfdO+Fi5Zrqqe218Hr06fhc/nwByARPCaYPPhUvGHkamhztHbsbdRcXEY4JgQEe+BPviOYI4Fnba9hI2OfaMN895NzqgfKA+hMBkAZbC58OAxLOExkUhhMEEw4UrROkEpAR1hCtDzMNigrwBjED/f62+sf2pvOX8ZXv0e7b743yOfWT9/H6q/7DAa4DAAWqBYgFrQQKA+QAlv7J/OH6Gvn992T30vb99Ub25/aw9v/1kPXi9e71ZfWl9FX0lfT99FT1YfUe9of3HPli+s/7gf3e/hEA1QDpABEA7P66/T38ZfrG+HD44PmM/BEATgSLC58V5x7SJiMtGTSuOSk7NjkKNCYuYSYrHK8QuQVZ/GjzQ+sS5Z7hft8m3lbeJ+AZ42DllOfQ6iDv9POI93P7sgDIBpMMVhEPFmwa8B2AH0Qfdx3WGbYU1A36Be792fUh7kvnNuLj3iTdHd2h3pLhtOWu6g7wWfWH+rf/igSrCPQL2Q6iETgUjRb6F8AYBhmpGHYXCBXFEXYNQgjbAh/9Y/fL8TrtvOkV5xnmnuYq6FTqae0y8b30yfdD+mH8Sf70/7wAxADrAGoB1gHnAd0B7gH6AckBcQGiAIn/f/4j/X37jvnN93L2GfUZ9GDz3PKQ8qnyQvPp84z0gPWW9qf3Vflf+4L9cv+IAUQEXgbZBxgJ7wl9CmgK4Al/CcIJvgq4C6QMHA86E2wXuBo8HTIgwiJ3I0EiSB+QGwUXGxGEChEEXP5I+Xn0y/DT7sPtOu1l7XbuKPB58XbypPMp9dv2/Pf7+HL6cPyX/oMAkgIABXUHdgkKC2AMGQ3LDJMLtwmaB+QEfAHI/Ur6dvf59NzyK/Ev8Bnwk/B/8bTyEPSO9Sj35fi2+kX8bv22/kUAKQLmA3QFMAfLCHgKmwsWDEEM2wsMC2sJHwfeBJECFQCH/R37Hvmn92b2a/Wv9Bv06vO285DznvO68/LzB/RK9P70BPZT97v4Sfoe/Bf+6/+uASoDUgQCBQ4F/AStBOgDhgLgAGf/Cv6w/Bz7tvm7+B749Pe39wH4w/iK+XD6Qfui/Db+dv+JANMBuwNpBg4JPQtiDaUPvxKgFcYXLxnNGYka9Bp2GuAYfxbnE0YRIQ6ACtMGQQNFAKX9R/tU+YD3KPYk9XX0R/T684fzW/Om82f0MvXZ9e32Tvjc+ab7Uv0P/60AMwK4A9kEtwUvBj4GKQbtBVUFMQS5AnkBewBe/xL+0fzB+/z6aPoK+uT50vn0+Tr6kPrl+i37WPtj+1r7XPtq+4/74ftI/NP8hf1//r//3QDVAcMCngNUBLkE9AQWBSUFOQUuBSEFEQXNBIoESwTRAyoDIwLVAJD/Ov7e/JP7fPrY+X/5U/l8+SP6JPv++9H87v0U/wQAmQAaAdsBdwKxAtQCBgNBAy8D3AKNAkcC1wEQASsAWv+e/tn9Mf3a/Mv8yvzW/Bz9mv0r/n/+u/4M/1L/ef9t/1D/R/9E/0D/Tv9+/73/5/8pAIkA1AALATMBUgFoAZ0B7QEnAk4CcgKlAvMCKgMuAx0DCwMAA+UCsAKmAscCtgKdArAC0wL+AhQDLwOSAwwESgRtBKkE5wT7BMUEewREBOoDQgOJAu0BeAHvAEMAzP+N/27/Mv/s/s3+sv6e/nf+Z/53/mv+SP4q/in+Lv4K/r/9X/0M/d38l/wu/LT7SPsY+wL72frC+tf6Dftf+6j7+Ptt/ML85fzu/OP85vy+/Hz8bPx8/Kz81vwZ/ZT9Hv7D/mH/7P9cAJ8A3wApAWQBdAFiAYABrwG2AaMBiwF1AUoB+gCbAEsA9v+i/2H/PP9Q/5D/xP8WAIcABAF/AccBHQJmAnUCjQKsAtcC9gIEAyUDMQMiA/YCsgJeAukBSQGlADMADAAJABEAZgDzAK8BhQJNA/0DewTVBAkF/AS0BEIEoAP0AmcC3gFRAawADQCY/yP/nP4d/qD9Hf2v/D/85/u8+8b78fse/HH8zvw8/br9Jf6I/qv+s/7b/vT+/P4I/xX/L/9U/3//qf/b/wQABQASABEABADX/57/pP+p/5T/bv9e/33/jP9z/1//af+d/6z/of/B/wYATABQAHQA0AD8ABIBDgEzAXUBgAFsAWYBhwGkAYkBUQFFAUIB/ACbAEgAAAC3/1D/E//p/qT+Y/48/ln+if6k/s/+G/+U////VwDRAFgBzwENAiACXAJ7AmICGQKyAWQBAAF+ANz/PP/X/ov+Hv60/ZL9pP3E/f79b/71/mP/2/+NAFoB4wEoAnIC3wI2A0wDKQMOA/wCugJOAtUBdwH8AEcAsf9d/w3/if4a/vz9AP7w/cf9yf0G/ib+K/5V/rD+K/+M/9j/UQDjAD0BWAFqAZwBmwE/AeQAsACCACgAu/+R/5b/jP9m/0z/VP9r/1P/F/8b/zP/FP/b/s7++P4b/y//TP+N/9P/CAAzAF8AmgCqAJcAiQCKAH4AOwD3/+P/8P/s/9f/4v8CABUAKAAxADMANwAvAC8AIQAMAPz/3P/Q/9z/2//P/97/FgBMAGAAZwB0AGoAXgBiAEkAHgD6/+r/2v/H/9H/3//R/8D/x//E/6D/d/9S/zb/IP8E//D+8f4J/yD/Lf9I/5X/5v8IADUAdgCyAM0A8QA+AYQBmAGXAaQBmQGbAXwBNQECAcoAmwBeACAADgD3/9j/yf/I/9P/tf+U/4z/af9S/0j/KP8U/yH/N/9a/43/1f8pAF8AqAD4ACkBRQFHATUBFwHvAKkATwDy/43/Kf/W/pT+Y/5B/hr+Gf48/kb+Rv5S/nT+j/6U/rD+5v4b/0r/b/+w/wYARwBXAFsAcwCHAHoATABQAFQAKAD6/9r/9v///9//zP/X/yUAVwBMAFcAfgCuAMQAugDJAN8AuQBnACQA9/+w/zf/z/6k/qP+jP5o/q7+J/+G/9f/LAC4AEsBkwG3AfIBHwIwAgkC3QHOAZQBSQECAcEAhQApANT/mv9f/xf/2/7B/q/+s/7W/gb/S/+N/9D/CQBNAJ4A2QAAASMBUAFtAX0BogG8AcABqAGRAZABagE3AQABqABsAEEACgDQ/6b/nv97/1v/df+i/8H/3P/+/zkAZwB6AJ4AtgC4AJYAegBnAE0ALQD7/8D/kf+B/3P/Yv91/3//ef+K/47/gf9y/2v/cv9Q/yP/FP8Z/x3/Ef8L/xH/I/8f/w3/DP8R/xX/9P7h/v3+BP8C/wT/If9e/3b/gv+x/+j/DQAoAD0AXwB2AHQAdAB6AIUAbgBLAEcAPwAeAP7/9P/4/+v/2P/r/xIALABIAG4AkwDCANkA4AD0AAgBBgHjANcA3QDFAIUATABBABUAw/+Y/5L/f/9d/zj/NP9K/1//g/+e/8z//P8IACAAQABfAHYAhQCmANAA6ADnABABNQEzATIBFgESAQwB7ADlAOQA0wCjAIMAbABNACgA9//g/+L/y/+9/7v/z//6//v/+P8FAAIA9//e/6//gv9n/0D/+P6+/pr+c/5d/kr+Tf5W/mv+i/6e/tn+FP80/13/if/L/yEAZAB2AJsAwACmAI8AcwA9AAoAwf9d/wj/xf6J/lr+L/4u/kX+bP6s/uj+NP9+/97/NQBjAKIA7AAnAT0BRQFeAXABaAFRAS0BEAHxAMUAhwBHACgA+v/F/5r/iP+Q/4z/lP+9/+L//v8ZADwAXwBsAIIAoQCuALQAtACtAJYAiwBnADwAJQD0/9H/u/+e/57/kv+C/4H/gv+i/8//6/8BACQARwBeAHgAiwB9AF8AYABJACUAEgDy/9v/yP+0/5z/iP+B/4r/mv+g/7P/3v/6//P/9v8YADEASwBeAFcAXwBjADUA///a/7//pv97/2L/Rv86/z7/K/8+/13/av+F/6T/yP/y/w0AJQA5AEwAYgByAIYAmQCpAKwAvQDFAKIAjwB3AFoARAAoAAwA9P/g/8j/uP+h/5r/jv9+/43/nP+x/73/2v/o//b/DAARABgAEQAhAC8AQABqAJcAtAC8AMYAzADRAMgAtACpAJ0AhwB2AE8AIAANAPf/2P/F/7X/pf+p/6//pv+a/53/rf+1/8f/3v/q//j///8IABoAHQAkACwAJQAQAAkACQD8/+v/3P/c/9T/zf/H/8//3//i/+f/5//s//D/6//q/+r/5//f/9H/w/+0/63/rP+t/7D/sP+9/9T/5P/3/xkAOwBLAFsAaAB0AIMAfgBzAHAAZwBcAFgATQBDADAAEgD6/9z/uf+g/4z/b/9Y/1D/S/83/y3/Mv86/1P/Wv9x/5L/qf/Y//v/EgA3AEwAawCDAIsAnQCpAKwAlgB2AGAAQwAiAAAA4//B/57/hv96/37/if+Y/6//wP/P/+f/9v8JACYAPABJAGgAfQCBAJcAlwCGAH8AfwCHAHcAXwBXAD8AIAAIAOv/y/+t/47/ef9v/2H/Uv9d/3P/jf+o/8v/4//3/w0AEAAcACUALwA4AD8ARAA9ADcAMQArACAAFAAQAA0AAgD0/+b/4v/b/83/yf/N/8z/zP/e/9//3//y////CQANABgAIQAcABkAFAAMAAwACgAMAAwADAAEAPD/6v/y/+7/6/////r/8v/8//j/9//6//z////7/wIAAQD6//P/5P/X/8j/xf+8/7X/vf+z/7//0f/a//L/CAASAB4AOQBJAEUAUQBRAFAAVwBQAEkAOQAxADUALwAeAAUA9v/o/9j/zP+//7j/uP+//8f/xf/R/9//8v8FAAwAHQAsADUATQBTAFQAWwBjAGgAWgBQAEwANQAiABYAAADy/+P/4P/e/8z/yP/B/7j/vf/A/8//4P/o//j//P/6/wUAEAAOABAADQAFAP//+v/+//v/9//4//j//P/3/+//8v/6/wEABQAJAA4ADQAKAA4AFAAgACYAIgAZAA4ABQABAP///P/6/+7/2P/L/8D/tf+//8H/vf/D/8X/z//X/+j/AQAVAB4AIQAxADcARABYAGMAVwA3ACQABQD0/+v/2//k/9P/v//B/7f/v//j//z/CgAdACEAEQAMABkAGAAQABUADQAAAPP/3//V/9r/2P/j/+f/3P/o/+//9v////z/AAAAAP7/AgD3/+//7//s/+7/4//i/+f/6P/u/+7/7P/u/+7/8//z//T//P8EAAIA//8CAAAA+//8/////v/+/wEAAQAGAAYABAAJAAQACAAKAAQABQACAAUA///y//j/+v/z//f//v/8////BAD+/wAABgAEAP//BQAEAPz////8//v/AQABAAUADgANAAwADgAQAAkABgAIAAUADQAFAPj//P//////9//z//L/7//w//L/8v/y//7/AQD8////AgAMAA4ADgAQAAYA//8AAP//AQAEAAQAAAD8//v/+//8/wAACQAMAAwAFAASABUAFAAQABQADAABAAQA+//2/+//4P/f/97/2v/a/9r/2v/i/+L/3P/s//f/+//7//7/BgAKAAkABgAJAAwACgAKAAoABAAGAAgA/v/+//7/+v/7/////v/+/wEAAQAGAAAA8//4//r/+P////r/9/////b/7//v//P/+P/z//L/8v/w//P/8v/0/////v/+/wIABgAMAAUADQARAAwAEQAMABAAHAAYABYAEAAJAAwABQAEAAUABQAKAPv/7//z/+//8v/z//P/+v/0//T/9v/2//7//P8BAAwABQACAAQABAAFAAIABAACAAQABQACAAEABAACAP//AAD///z////8////AAD8//z/+v/6//z///8AAP7//P/7//T//P/8//7//P/2//z//v/+//z//P8AAAQACgD//wEAAgD//wAA9P/2//P/8//0//P/9//z//j//P/8/wIABAAEAAQABAABAAAAAQABAAIA///3//z/+P/0//f/7//y//b/8//z//T/9v/2//b/+P/+//f//P8EAAIAAQAEAA0ADAAIAAYABgAIAAYABgAAAPv/+//7//f/7//y/+//6v/q/+r/7//s//L/+v/6//r//P8BAPz/AAAIAAUADQARAA4AEAANAA0ADQAFAAAAAQAAAPv/+//6//j/+P/3//P/+P/3//L/9//6//j/+P/6//j//v/+////AgABAAEAAQABAAEAAAAAAAAAAAABAAEA/////wEAAgACAAIAAgACAAAAAgACAAAAAQACAAAAAAABAAEAAgAAAPz/AAD4//L/8//w//L/8P/z//j/+P/4//j/+P/6//7////+//v//P/8//7/AAD/////AAAAAP7/+P/3/wEAAAD8/wAA+v/+/wAA//8BAAAAAQAAAP////8AAAAA/////////////wEAAQAAAAAAAQACAAIAAQAAAP//AgABAP//AAD//wAA//8AAAAAAAAAAP7/+//7//v//P/7//z//P/8//z//P/+/wAAAAD8//z//v////7//P8AAP7/+//8//z/+//7//v/+//7//r////+//v//v/+////AAD/////AAAAAAAAAAD//wAAAAD//////v////7//P/+//7//P/7//z//P/8//v//P/8//v//P/7//v////8////AAAAAP////8AAPz/AAAAAP//AQABAAAAAAAAAP7//P/+//v//P/8//z///8AAAAAAAD///7/AAD8//v///8AAAAAAAAAAP///P/7//z//P/8//z//P/8//z//P/+//z//v////r//v8BAP//AQAAAP7//P/8//z//P/8//z////8/wAAAAD8//z/+P/4//r/+P/4//j/+v/4//z//v/7//v//P/7//z/AAD8////AQAAAAAAAQD//wAAAAD//wAAAAAAAAAAAAAAAP/////7//z/AAD8//z//P///wAA/////wAA///8//z//P/8//z//v/7//v////8//z//P/7//z//P/8//7/AAABAAAA/v/8//7//P/8//z/+//8//z//P/8//z//P/+/wAAAAABAAAA/v/+//z//P/7//z////8//v//P/8//z//P/8/wAAAAD8/wAAAAD8//z/+//8/wAA/P/8/wAAAAD//////P/7/wAA/P/7//z/AAD/////AAD8//7//P/7//v//P/8//v//P/8/wAA/P/8/wAA//8AAAEAAAD//wAAAAAAAAAAAAAAAAAAAAAAAPz/+v/6//z/AAD6//z/AAD8/wAAAAD6//7/AAD6/wAAAAD+/wEA/P/+/wAA/P/8/wEAAAD8//z//P/8/wAA/P/8//z//P/8//z//P/8/////P/7/wAA/v/7//v//P/7/wAAAAD8/wEAAAD//wAA/P/8/////P/8/////P8AAAAA//8AAAAAAAAAAP///////////////////v///////v/8//z//P/8//z/+//+/////P////z/+//8//z//P///wAA/P8AAAAAAAAAAPz//P/+//7//v8AAPz//P8BAAAA/P/8//z//P8AAP///v8AAAAAAAD///z//P/8//z/+//8//v//P8AAAAA/P/8/wAAAAD8//z//P////z/+//////////8/wEA/P/4/wAA/P/4//z/+//8/wEA//////z/+v/8//z/+P/7/wAA/P8AAAAA9//4//r/9//4//j/+P/7//z/+//8//7//P8AAAAA+/8AAAAA+//8//z/+//8//z/+//8//z//P/+//7//P/+/////P///wAA//8AAAAA/P/8////AAAAAP//AAD/////////////AAD/////AAD//wAA/////wAAAAD//wAA/////wAAAAD//wAAAAAAAP7/+/8AAPz//P8BAPz//v8AAP7//P/8//7//P/8//z//v/+//z//P/+//7//P/8//7//v/8//7//v/8//7//v/8//7//P/+//7//v/8//z//v/8//z//v/8//z//P/8//z//P/8//z//v/8//v//P8AAPv/AAAAAPz////8//z//v/4//j//P/8//j/+/8AAAAAAAAAAAAAAAAAAAAAAAAAAAEAAAD6//z//P/+//z//P/6//z////6/wAAAAD6/////P/8/wEAAAAAAAAAAAD8////AAAAAAEAAAAAAAAAAQAAAAEAAAAAAAAA//8AAAEAAQAAAAAAAAAAAAEAAAAAAAEAAAAAAAEAAAAAAAEAAAD//wEAAQD/////AAAAAPz//P8AAPz//P8AAPv//v8AAPz/+//8//v/+//+//v//P/8//z//v/8//7//v/7//z/+//7/wAA+//7/wAA+v/7/////P/7/////P/8/////v/8//z//P/8/wAA/P/+/wAA/P8AAAAA/P/8/wAAAAD8/wAAAAD7/wAAAAD7/wAAAAD+/wAAAAD///7//v/8/wAAAAD8/wAAAAD+////AAD7//r////+//z//P/8//v//P/8//7/+//8/wAA+P/+/wAA+P/4//j/+P/6//j/+P/3//j/+v/3//b/+v8AAP///P/8/////P///wAAAAAAAP//AAD/////AAD/////AAAAAP//AAD/////AAD/////AQAAAP//AAAAAP//AAAAAP//AAAAAAAAAAD8/wAAAAD8/wAA///+/wAA///+//z//P/8//z/+//8//7/+//8//7//P/+//7//P/8//7//v/8//z//P/+//z//P8AAPz//P/+//z//P/+//7//v/+//z//P/8//7//P////v//P8AAPz//v/7//v//P/8//z//v////z//P8AAPz/AAAAAPz//P/8/wAA/P/8/wAA/P8AAP//+//8//7//v/+//z//P/+/wAA/v/+/wAA+//8/wEAAAAAAAAAAQAAAPr/+v8AAAAA+v/3//r/+v/3//r/+v/4//j/+P/6//j/+P/6//z//P/+////AAAAAP7/AAD+/wAAAAAAAAAAAAAAAAEAAAD//wAAAAAAAAAAAAABAAAAAAAAAAAAAQD//wAAAAAAAAAAAAAAAAAA//8AAP////8BAAEA///8//z//P////v/+/8AAAAA+//8//////8AAP//+//8////+///////+v//////+v/+//7/+/////v//P8AAAAAAAABAAEA//8AAAAA//8AAAAA//8BAAAA///+////AAD8////AAD8/wAAAAD//wAA/P/+/wAA///+/wAA/v/8/wEAAAD8/wAA/P/8/wEAAAD8//z/AAD7/wAAAAD7/wAAAAD8/wAA/P///wAA/P/7//7///////7//P/8//j//P8AAPv//P/7//j/AAD///z//P/8//v//P/+//r/+/8BAPv//P////j/AAAAAPb/+P/4//f/+v/4//r//P/8//v//P////z///8AAP///P/7//z/+//7//z//P/8//v//P/8//v//v8AAAAA/P/8//z/AQAAAPz//v/8//z/AQD///7/AAD7/wAAAAD8//7//P/8//v//P/8//v//P/8//z//v////z/AAAAAPv/AQD///z//P/8//7//P/8//7//P/+////AAABAPz//v8AAPz/AQD+//7/AQD///7//P///wEAAQAAAAAAAAABAAIA/v/8//7/AQAAAP7////+//7/AQAAAP7//v///wEAAAD+/////v///wAA/P/+//7//v8BAPz//P8AAP7/AAD8//v////8//7/AAD7//r////4//7//P/4////+//4//v//P/7//v////8//z//v/6//7/AAD6/////P/3/wEA///7/////v/7//z//P/+/////v8AAAAA/v/8//v//P/8//z/+//8//z/+//8//v//P/+/////P/8/wAAAAABAAAA/P8AAAEA//////7/+v8BAAAA/P8AAAAAAAABAAEA//8AAAEA//8AAAAA/v8AAAAAAAD///v/+/8AAAAA+//6///////8//7/+//8/////P///wAA+/8AAAAA/P/7//v/AAD///z//P/7//v/+/8AAAAA+//8///////8//z//P8AAPz/+/////z//P8AAP///P/7/wAAAAD+//v/+//8/wAA///8/wAA/P8AAAAA/v/8//z/AAAAAPz//P/+/wAAAQD+/wAAAQD8/wAAAAD4//j/+v/8//z/+v/6//j/+P/4//j/+P/4//f/9//6//v/+v///wEAAAAAAP//AAD//wAAAAD//wAAAAAAAAAA//8AAAAAAAD8//z/AAD//wAAAAAAAAAA/P///wAAAAAAAP//AQABAAAAAAAAAP7//P8AAP///P/+//z//P/8//z//P/8//z/+//8//z//P/8//z/+//7//z//P/8//z/+//8//z//P/8//7//P/8//z//P/8//z/AAABAPz//P8AAAAAAAAAAAAA/P/+/////P/8//7//P/7//z//P/8//z//v/7//v//P/+//z//P/8//z//////////v///wAAAAAAAP//AAAAAAAAAAAAAAAAAAAAAAAAAAAAAAAAAAAAAAAAAAAAAAAAAAAAAAAA//8AAAAAAAAAAAAAAAD/////AAAAAAAA/////wAAAAAAAP////8AAAAAAAAAAAAAAAD+//r//P////7////6//f/+v/3//r/+//6/////v/8/wAA/P/8/wAA/v/7/wEA/P/8/wEA/v///wAA//8BAAAA/v8AAPz//P/+//z//P/8/wAAAQD+//z//P/+//7//P/8//7///8BAAAAAAAAAAAAAAAAAP7/AAAAAP////8AAPz/+/8AAP///////wAAAAD///////8AAAAA/v/8//z//P8AAAEA/v/8//z//P/7//v/+//7//z/AAD///z///////////8AAAAAAAD//wAAAAAAAAEAAQAAAAAAAAAAAAAAAAAAAAAAAAAAAAAAAAAAAAAAAAAAAP//AAD///z/+//7//z/+////wAAAAAAAP/////8//v/+//7//v///8AAP7//P/6//j/+P/4//j/+P/4//j/+P/4//r/+v/4//j/+P/4//j/+P/4//j/+P/6//r/+P/4//j/+//8//z/+//8/wAAAAD+/wAAAQAAAAAAAAAAAP///P/8//v//P8AAPz/AAAAAPz//////////P////z//P///////////////////////////////////////////////////wAAAAAAAP//AAAAAP///P/7//v//P8AAPz//P/8//z/AAAAAP7//P/7//z//P/8//v//P/8//z//P/8//z//P/8//z//P/8//z//P/8//v//P/8//z//P/8//z//P/+//z//P/+//z//P////z//P/8//z//P/8//z//P/8//v//P/8//z/AAD///v//P/7//z/+//7//v/+//8//v/9//6//////////v/9//4///////4//7/AQAAAP//AAAAAP//AAAAAAAAAAAAAP//AAABAAEAAQAAAAAAAAAAAAEAAQAAAAEAAAAAAAEAAAABAAAAAAAAAAAAAAABAAEAAQAAAAEAAQAAAAAAAAAAAAAAAQABAAAAAAAAAPz//v8BAAAAAQAAAAAA/v8BAAEAAAAAAPz//P/8//z//v/8//z//v/8//z//P/8/wAAAAD8//z/+//7//z/+//7//z/+//8//z/+//8/////P/7//z//P/8//z//P/8//v//P/8//z/+//8/////P/8//z//P/8//z/AAAAAPz/AAD8//v////8//z/+//7//z///8AAAAAAAAAAP//AAAAAP//AAAAAAAAAAAAAAAAAAAAAAAAAAAAAAAAAAAAAAAAAAD+//z//P/8//z//P/8//z//P/8//z//P/8//z//v/+//z//P/8//z//P/8//z/+P/3//r/+v/6//r/+v/6//7//v/+/wEA/v8BAAEAAQABAAEAAQABAAEAAQABAP//AQABAP7//v/+////AAABAAEAAQABAAEAAQABAAEAAgABAAEAAgACAAAAAQAAAAAAAAAAAAAAAQAAAAAAAAAAAAEAAQAAAAAAAAAAAAAAAAAAAP7//P/8//z//P/8//z//P/8//z//P/+//z//P/8//z//P/8//7//v/+//7//v/+//7//v/+//7//v/+//7//v/+//7//v/+//7//v/+//7//v/+//7//v/+//7//v/+//7//v/+//7//v///////v/+//7//v/+//7//v/+//7//v/+//7//v/+//7///8CAAEA+//6//v/+v/7/wEA///+/wIAAAD//wAA+/8BAAEA+/8BAAIAAQABAAEAAQABAAEAAQABAAEAAQABAAEAAgABAAEAAgABAAEAAQABAAEAAQABAAEAAQABAAEAAQABAAEAAQABAAEAAQAAAAEAAQABAAEA/v/+//7//v8AAAEAAQABAAEAAAD//wAA///+////AQD///7////+//7//v8BAP///v8CAAEAAQABAP///v/+//7///8BAAIAAQABAAEAAQABAAEAAQABAAEAAQACAAEAAQABAAEAAQACAAEAAQACAAEAAQABAAEAAQABAAEAAQABAAAA//8AAP7/AAABAP7//v8AAAEAAQABAAEAAQABAAEA/v8BAAEA/v///wAA//8BAAEA///+//7//v/+//7//v/+//7//v/+//z/+//6//r/+//6//r/+v/6//r/+v/6//r/+v/6//r/+v/6//r/+//6//r/+v/6//r/+P/6//z/+v/6//r/+//+//7////+//7///8AAAEAAAD+//7//P/+/wAA/v/+//7//v/+//7//v/+//7/AAABAPz//v8BAP//AQABAAEAAQABAAEAAQABAAEAAQABAAEAAQABAAEAAQABAAEAAQABAAEAAQACAAEAAQACAAEAAQABAAEAAQABAAEAAQABAAAA///+//7//v/+//7//v/+//7//v/+//7//v/+//7//v/+//7//v/+//7//v/+//7//v/+//7//v/+//z//v/+//7//v/+//7//v/+//7//v/+//7//v/+//7//v/+/wAA///+////AAD+//7////+//7////+/w==\" type=\"audio/wav\" />\n",
              "                    Your browser does not support the audio element.\n",
              "                </audio>\n",
              "              "
            ]
          },
          "metadata": {}
        }
      ],
      "source": [
        "x = tf.io.read_file(str(x))\n",
        "x, sample_rate = tf.audio.decode_wav(x, desired_channels=1, desired_samples=16000,)\n",
        "x = tf.squeeze(x, axis=-1)\n",
        "waveform = x\n",
        "x = get_spectrogram(x)\n",
        "x = x[tf.newaxis,...]\n",
        "\n",
        "prediction = model(x)\n",
        "#x_labels = ['no', 'yes', 'down', 'go', 'left', 'up', 'right', 'stop']\n",
        "x_labels = ['down', 'go', 'left', 'no', 'right', 'stop', 'up', 'yes']\n",
        "plt.bar(x_labels, tf.nn.softmax(prediction[0]))\n",
        "plt.title('Prediction')\n",
        "plt.show()\n",
        "\n",
        "display.display(display.Audio(waveform, rate=16000))"
      ]
    }
  ],
  "metadata": {
    "accelerator": "GPU",
    "colab": {
      "provenance": [],
      "include_colab_link": true
    },
    "kernelspec": {
      "display_name": "Python 3",
      "name": "python3"
    },
    "gpuClass": "standard"
  },
  "nbformat": 4,
  "nbformat_minor": 0
}